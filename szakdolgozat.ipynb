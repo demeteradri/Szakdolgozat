{
 "cells": [
  {
   "cell_type": "markdown",
   "id": "d84ba5d0",
   "metadata": {},
   "source": [
    "# Return számolás"
   ]
  },
  {
   "cell_type": "code",
   "execution_count": 2,
   "id": "de6e91d6",
   "metadata": {},
   "outputs": [],
   "source": [
    "import pandas as pd\n",
    "import numpy as np\n",
    "import matplotlib\n",
    "import matplotlib.pyplot as plt\n",
    "%matplotlib inline\n",
    "import matplotlib.ticker as ticker\n",
    "import statsmodels.api as sm"
   ]
  },
  {
   "cell_type": "code",
   "execution_count": 3,
   "id": "0fd93c28",
   "metadata": {},
   "outputs": [],
   "source": [
    "px_last=pd.read_excel(r\"C:\\Users\\demet\\Desktop\\Python\\adat\\faktorok 8-10.xlsx\", sheet_name=\"px_last 2016\", index_col=0)\n",
    "dividend=pd.read_excel(r\"C:\\Users\\demet\\Desktop\\Python\\adat\\faktorok 8-10.xlsx\", sheet_name=\"div 2016\", index_col=0)\n",
    "rfree=pd.read_excel(r\"C:\\Users\\demet\\Desktop\\Python\\adat\\faktorok 8-10.xlsx\", sheet_name=\"rf 2016\", index_col=0)"
   ]
  },
  {
   "cell_type": "code",
   "execution_count": 16,
   "id": "662a4d0d",
   "metadata": {},
   "outputs": [],
   "source": [
    "px_last.replace(0, np.nan, inplace=True)"
   ]
  },
  {
   "cell_type": "code",
   "execution_count": 17,
   "id": "ba3e4ba5",
   "metadata": {},
   "outputs": [],
   "source": [
    "#napi rf, es ne %-ban legyen, hanem tizedes tortben\n",
    "rf=(rfree/100)/365"
   ]
  },
  {
   "cell_type": "code",
   "execution_count": 18,
   "id": "2719684a",
   "metadata": {},
   "outputs": [],
   "source": [
    "r = px_last+dividend\n",
    "eredmeny=(r/px_last.shift(1))"
   ]
  },
  {
   "cell_type": "code",
   "execution_count": 19,
   "id": "dea91ea0",
   "metadata": {},
   "outputs": [],
   "source": [
    "#loghozam szamolas\n",
    "hozam = eredmeny.applymap(lambda x: np.log(x) if not pd.isna(x) and x > 0 else np.nan)"
   ]
  },
  {
   "cell_type": "code",
   "execution_count": 20,
   "id": "d499dfe9",
   "metadata": {},
   "outputs": [],
   "source": [
    "#effektiv hozam\n",
    "effhozam=eredmeny-1\n",
    "effhozam=effhozam-rf\n",
    "effhozam =effhozam.drop(effhozam.index[0])\n",
    "effhozam.replace([np.inf, -np.inf], 0, inplace=True)\n",
    "effhozam=effhozam.fillna(0)\n",
    "effr_i=effhozam.iloc[1761:2012]"
   ]
  },
  {
   "cell_type": "code",
   "execution_count": 21,
   "id": "94216675",
   "metadata": {},
   "outputs": [],
   "source": [
    "#excess return\n",
    "hozam=hozam-rf"
   ]
  },
  {
   "cell_type": "code",
   "execution_count": 22,
   "id": "a61ffc2c",
   "metadata": {},
   "outputs": [],
   "source": [
    "#NaN sor eltávolítása\n",
    "hozam = hozam.drop(hozam.index[0])"
   ]
  },
  {
   "cell_type": "code",
   "execution_count": 23,
   "id": "cd66c6a6",
   "metadata": {},
   "outputs": [],
   "source": [
    "hozam.replace([np.inf, -np.inf], 0, inplace=True)\n",
    "hozam=hozam.fillna(0)"
   ]
  },
  {
   "cell_type": "code",
   "execution_count": 24,
   "id": "73b89cd7",
   "metadata": {},
   "outputs": [],
   "source": [
    "r_i=hozam.iloc[1761:2012]"
   ]
  },
  {
   "cell_type": "code",
   "execution_count": 25,
   "id": "fdc90f02",
   "metadata": {},
   "outputs": [],
   "source": [
    "#kummulált effektív hozam\n",
    "eff_kummhozam=effr_i.sum()"
   ]
  },
  {
   "cell_type": "code",
   "execution_count": 26,
   "id": "f4353f83",
   "metadata": {},
   "outputs": [
    {
     "data": {
      "text/plain": [
       "<Axes: ylabel='Frequency'>"
      ]
     },
     "execution_count": 26,
     "metadata": {},
     "output_type": "execute_result"
    },
    {
     "data": {
      "image/png": "[encoded data removed]",
      "text/plain": [
       "<Figure size 640x480 with 1 Axes>"
      ]
     },
     "metadata": {},
     "output_type": "display_data"
    }
   ],
   "source": [
    "eff_kummhozam.plot.hist()"
   ]
  },
  {
   "cell_type": "code",
   "execution_count": 27,
   "id": "9f380708",
   "metadata": {},
   "outputs": [
    {
     "data": {
      "text/html": [
       "<div>\n",
       "<style scoped>\n",
       "    .dataframe tbody tr th:only-of-type {\n",
       "        vertical-align: middle;\n",
       "    }\n",
       "\n",
       "    .dataframe tbody tr th {\n",
       "        vertical-align: top;\n",
       "    }\n",
       "\n",
       "    .dataframe thead th {\n",
       "        text-align: right;\n",
       "    }\n",
       "</style>\n",
       "<table border=\"1\" class=\"dataframe\">\n",
       "  <thead>\n",
       "    <tr style=\"text-align: right;\">\n",
       "      <th></th>\n",
       "      <th>A</th>\n",
       "      <th>AAL</th>\n",
       "      <th>AAPL</th>\n",
       "      <th>ABBV</th>\n",
       "      <th>ABNB</th>\n",
       "      <th>ABT</th>\n",
       "      <th>ACGL</th>\n",
       "      <th>ACN</th>\n",
       "      <th>ADBE</th>\n",
       "      <th>ADI</th>\n",
       "      <th>...</th>\n",
       "      <th>WYNN</th>\n",
       "      <th>XEL</th>\n",
       "      <th>XOM</th>\n",
       "      <th>XRAY</th>\n",
       "      <th>XYL</th>\n",
       "      <th>YUM</th>\n",
       "      <th>ZBH</th>\n",
       "      <th>ZBRA</th>\n",
       "      <th>ZION</th>\n",
       "      <th>ZTS</th>\n",
       "    </tr>\n",
       "    <tr>\n",
       "      <th>Dates</th>\n",
       "      <th></th>\n",
       "      <th></th>\n",
       "      <th></th>\n",
       "      <th></th>\n",
       "      <th></th>\n",
       "      <th></th>\n",
       "      <th></th>\n",
       "      <th></th>\n",
       "      <th></th>\n",
       "      <th></th>\n",
       "      <th></th>\n",
       "      <th></th>\n",
       "      <th></th>\n",
       "      <th></th>\n",
       "      <th></th>\n",
       "      <th></th>\n",
       "      <th></th>\n",
       "      <th></th>\n",
       "      <th></th>\n",
       "      <th></th>\n",
       "      <th></th>\n",
       "    </tr>\n",
       "  </thead>\n",
       "  <tbody>\n",
       "    <tr>\n",
       "      <th>2023-01-03</th>\n",
       "      <td>0.0000</td>\n",
       "      <td>0.0000</td>\n",
       "      <td>0.0007</td>\n",
       "      <td>0.0001</td>\n",
       "      <td>0.0000</td>\n",
       "      <td>0.0000</td>\n",
       "      <td>0.0000</td>\n",
       "      <td>0.0001</td>\n",
       "      <td>0.0000</td>\n",
       "      <td>0.0000</td>\n",
       "      <td>...</td>\n",
       "      <td>0.0007</td>\n",
       "      <td>0.0000</td>\n",
       "      <td>0.0003</td>\n",
       "      <td>0.0005</td>\n",
       "      <td>0.0000</td>\n",
       "      <td>0.0000</td>\n",
       "      <td>0.0000</td>\n",
       "      <td>0.0001</td>\n",
       "      <td>0.0000</td>\n",
       "      <td>0.0000</td>\n",
       "    </tr>\n",
       "    <tr>\n",
       "      <th>2023-01-04</th>\n",
       "      <td>0.0001</td>\n",
       "      <td>0.0021</td>\n",
       "      <td>0.0001</td>\n",
       "      <td>0.0000</td>\n",
       "      <td>0.0010</td>\n",
       "      <td>0.0001</td>\n",
       "      <td>0.0000</td>\n",
       "      <td>0.0000</td>\n",
       "      <td>0.0001</td>\n",
       "      <td>0.0002</td>\n",
       "      <td>...</td>\n",
       "      <td>0.0018</td>\n",
       "      <td>0.0000</td>\n",
       "      <td>0.0000</td>\n",
       "      <td>0.0005</td>\n",
       "      <td>0.0000</td>\n",
       "      <td>0.0001</td>\n",
       "      <td>0.0000</td>\n",
       "      <td>0.0001</td>\n",
       "      <td>0.0007</td>\n",
       "      <td>0.0001</td>\n",
       "    </tr>\n",
       "    <tr>\n",
       "      <th>2023-01-05</th>\n",
       "      <td>0.0000</td>\n",
       "      <td>0.0004</td>\n",
       "      <td>0.0001</td>\n",
       "      <td>0.0000</td>\n",
       "      <td>0.0001</td>\n",
       "      <td>0.0000</td>\n",
       "      <td>0.0000</td>\n",
       "      <td>0.0003</td>\n",
       "      <td>0.0007</td>\n",
       "      <td>0.0007</td>\n",
       "      <td>...</td>\n",
       "      <td>0.0000</td>\n",
       "      <td>0.0002</td>\n",
       "      <td>0.0002</td>\n",
       "      <td>0.0002</td>\n",
       "      <td>0.0004</td>\n",
       "      <td>0.0000</td>\n",
       "      <td>0.0002</td>\n",
       "      <td>0.0001</td>\n",
       "      <td>0.0002</td>\n",
       "      <td>0.0003</td>\n",
       "    </tr>\n",
       "    <tr>\n",
       "      <th>2023-01-06</th>\n",
       "      <td>0.0004</td>\n",
       "      <td>0.0001</td>\n",
       "      <td>0.0007</td>\n",
       "      <td>0.0002</td>\n",
       "      <td>0.0000</td>\n",
       "      <td>0.0001</td>\n",
       "      <td>0.0001</td>\n",
       "      <td>0.0003</td>\n",
       "      <td>0.0001</td>\n",
       "      <td>0.0007</td>\n",
       "      <td>...</td>\n",
       "      <td>0.0003</td>\n",
       "      <td>0.0004</td>\n",
       "      <td>0.0001</td>\n",
       "      <td>0.0001</td>\n",
       "      <td>0.0006</td>\n",
       "      <td>0.0002</td>\n",
       "      <td>0.0000</td>\n",
       "      <td>0.0013</td>\n",
       "      <td>0.0007</td>\n",
       "      <td>0.0001</td>\n",
       "    </tr>\n",
       "    <tr>\n",
       "      <th>2023-01-09</th>\n",
       "      <td>0.0000</td>\n",
       "      <td>0.0005</td>\n",
       "      <td>0.0000</td>\n",
       "      <td>0.0004</td>\n",
       "      <td>0.0000</td>\n",
       "      <td>0.0000</td>\n",
       "      <td>0.0002</td>\n",
       "      <td>0.0001</td>\n",
       "      <td>0.0004</td>\n",
       "      <td>0.0000</td>\n",
       "      <td>...</td>\n",
       "      <td>0.0000</td>\n",
       "      <td>0.0000</td>\n",
       "      <td>0.0002</td>\n",
       "      <td>0.0001</td>\n",
       "      <td>0.0000</td>\n",
       "      <td>0.0000</td>\n",
       "      <td>0.0000</td>\n",
       "      <td>0.0002</td>\n",
       "      <td>0.0000</td>\n",
       "      <td>0.0000</td>\n",
       "    </tr>\n",
       "    <tr>\n",
       "      <th>...</th>\n",
       "      <td>...</td>\n",
       "      <td>...</td>\n",
       "      <td>...</td>\n",
       "      <td>...</td>\n",
       "      <td>...</td>\n",
       "      <td>...</td>\n",
       "      <td>...</td>\n",
       "      <td>...</td>\n",
       "      <td>...</td>\n",
       "      <td>...</td>\n",
       "      <td>...</td>\n",
       "      <td>...</td>\n",
       "      <td>...</td>\n",
       "      <td>...</td>\n",
       "      <td>...</td>\n",
       "      <td>...</td>\n",
       "      <td>...</td>\n",
       "      <td>...</td>\n",
       "      <td>...</td>\n",
       "      <td>...</td>\n",
       "      <td>...</td>\n",
       "    </tr>\n",
       "    <tr>\n",
       "      <th>2023-12-26</th>\n",
       "      <td>0.0000</td>\n",
       "      <td>0.0001</td>\n",
       "      <td>0.0000</td>\n",
       "      <td>0.0000</td>\n",
       "      <td>0.0001</td>\n",
       "      <td>0.0000</td>\n",
       "      <td>0.0000</td>\n",
       "      <td>0.0000</td>\n",
       "      <td>0.0000</td>\n",
       "      <td>0.0000</td>\n",
       "      <td>...</td>\n",
       "      <td>0.0000</td>\n",
       "      <td>0.0000</td>\n",
       "      <td>0.0000</td>\n",
       "      <td>0.0000</td>\n",
       "      <td>0.0000</td>\n",
       "      <td>0.0000</td>\n",
       "      <td>0.0000</td>\n",
       "      <td>0.0003</td>\n",
       "      <td>0.0002</td>\n",
       "      <td>0.0000</td>\n",
       "    </tr>\n",
       "    <tr>\n",
       "      <th>2023-12-27</th>\n",
       "      <td>0.0000</td>\n",
       "      <td>0.0000</td>\n",
       "      <td>0.0000</td>\n",
       "      <td>0.0000</td>\n",
       "      <td>0.0001</td>\n",
       "      <td>0.0000</td>\n",
       "      <td>0.0000</td>\n",
       "      <td>0.0000</td>\n",
       "      <td>0.0000</td>\n",
       "      <td>0.0000</td>\n",
       "      <td>...</td>\n",
       "      <td>0.0000</td>\n",
       "      <td>0.0001</td>\n",
       "      <td>0.0000</td>\n",
       "      <td>0.0000</td>\n",
       "      <td>0.0000</td>\n",
       "      <td>0.0000</td>\n",
       "      <td>0.0000</td>\n",
       "      <td>0.0000</td>\n",
       "      <td>0.0000</td>\n",
       "      <td>0.0000</td>\n",
       "    </tr>\n",
       "    <tr>\n",
       "      <th>2023-12-28</th>\n",
       "      <td>0.0000</td>\n",
       "      <td>0.0000</td>\n",
       "      <td>0.0000</td>\n",
       "      <td>0.0000</td>\n",
       "      <td>0.0000</td>\n",
       "      <td>0.0000</td>\n",
       "      <td>0.0000</td>\n",
       "      <td>0.0000</td>\n",
       "      <td>0.0000</td>\n",
       "      <td>0.0000</td>\n",
       "      <td>...</td>\n",
       "      <td>0.0001</td>\n",
       "      <td>0.0000</td>\n",
       "      <td>0.0001</td>\n",
       "      <td>0.0000</td>\n",
       "      <td>0.0000</td>\n",
       "      <td>0.0000</td>\n",
       "      <td>0.0000</td>\n",
       "      <td>0.0000</td>\n",
       "      <td>0.0000</td>\n",
       "      <td>0.0000</td>\n",
       "    </tr>\n",
       "    <tr>\n",
       "      <th>2023-12-29</th>\n",
       "      <td>0.0000</td>\n",
       "      <td>0.0001</td>\n",
       "      <td>0.0000</td>\n",
       "      <td>0.0000</td>\n",
       "      <td>0.0000</td>\n",
       "      <td>0.0000</td>\n",
       "      <td>0.0000</td>\n",
       "      <td>0.0000</td>\n",
       "      <td>0.0000</td>\n",
       "      <td>0.0000</td>\n",
       "      <td>...</td>\n",
       "      <td>0.0000</td>\n",
       "      <td>0.0000</td>\n",
       "      <td>0.0000</td>\n",
       "      <td>0.0000</td>\n",
       "      <td>0.0000</td>\n",
       "      <td>0.0000</td>\n",
       "      <td>0.0000</td>\n",
       "      <td>0.0000</td>\n",
       "      <td>0.0002</td>\n",
       "      <td>0.0000</td>\n",
       "    </tr>\n",
       "    <tr>\n",
       "      <th>2024-01-02</th>\n",
       "      <td>0.0000</td>\n",
       "      <td>0.0002</td>\n",
       "      <td>0.0006</td>\n",
       "      <td>0.0008</td>\n",
       "      <td>0.0001</td>\n",
       "      <td>0.0000</td>\n",
       "      <td>0.0001</td>\n",
       "      <td>0.0001</td>\n",
       "      <td>0.0004</td>\n",
       "      <td>0.0003</td>\n",
       "      <td>...</td>\n",
       "      <td>0.0007</td>\n",
       "      <td>0.0006</td>\n",
       "      <td>0.0005</td>\n",
       "      <td>0.0000</td>\n",
       "      <td>0.0000</td>\n",
       "      <td>0.0000</td>\n",
       "      <td>0.0000</td>\n",
       "      <td>0.0002</td>\n",
       "      <td>0.0001</td>\n",
       "      <td>0.0000</td>\n",
       "    </tr>\n",
       "  </tbody>\n",
       "</table>\n",
       "<p>251 rows × 503 columns</p>\n",
       "</div>"
      ],
      "text/plain": [
       "                 A     AAL    AAPL    ABBV    ABNB     ABT    ACGL     ACN  \\\n",
       "Dates                                                                        \n",
       "2023-01-03  0.0000  0.0000  0.0007  0.0001  0.0000  0.0000  0.0000  0.0001   \n",
       "2023-01-04  0.0001  0.0021  0.0001  0.0000  0.0010  0.0001  0.0000  0.0000   \n",
       "2023-01-05  0.0000  0.0004  0.0001  0.0000  0.0001  0.0000  0.0000  0.0003   \n",
       "2023-01-06  0.0004  0.0001  0.0007  0.0002  0.0000  0.0001  0.0001  0.0003   \n",
       "2023-01-09  0.0000  0.0005  0.0000  0.0004  0.0000  0.0000  0.0002  0.0001   \n",
       "...            ...     ...     ...     ...     ...     ...     ...     ...   \n",
       "2023-12-26  0.0000  0.0001  0.0000  0.0000  0.0001  0.0000  0.0000  0.0000   \n",
       "2023-12-27  0.0000  0.0000  0.0000  0.0000  0.0001  0.0000  0.0000  0.0000   \n",
       "2023-12-28  0.0000  0.0000  0.0000  0.0000  0.0000  0.0000  0.0000  0.0000   \n",
       "2023-12-29  0.0000  0.0001  0.0000  0.0000  0.0000  0.0000  0.0000  0.0000   \n",
       "2024-01-02  0.0000  0.0002  0.0006  0.0008  0.0001  0.0000  0.0001  0.0001   \n",
       "\n",
       "              ADBE     ADI  ...    WYNN     XEL     XOM    XRAY     XYL  \\\n",
       "Dates                       ...                                           \n",
       "2023-01-03  0.0000  0.0000  ...  0.0007  0.0000  0.0003  0.0005  0.0000   \n",
       "2023-01-04  0.0001  0.0002  ...  0.0018  0.0000  0.0000  0.0005  0.0000   \n",
       "2023-01-05  0.0007  0.0007  ...  0.0000  0.0002  0.0002  0.0002  0.0004   \n",
       "2023-01-06  0.0001  0.0007  ...  0.0003  0.0004  0.0001  0.0001  0.0006   \n",
       "2023-01-09  0.0004  0.0000  ...  0.0000  0.0000  0.0002  0.0001  0.0000   \n",
       "...            ...     ...  ...     ...     ...     ...     ...     ...   \n",
       "2023-12-26  0.0000  0.0000  ...  0.0000  0.0000  0.0000  0.0000  0.0000   \n",
       "2023-12-27  0.0000  0.0000  ...  0.0000  0.0001  0.0000  0.0000  0.0000   \n",
       "2023-12-28  0.0000  0.0000  ...  0.0001  0.0000  0.0001  0.0000  0.0000   \n",
       "2023-12-29  0.0000  0.0000  ...  0.0000  0.0000  0.0000  0.0000  0.0000   \n",
       "2024-01-02  0.0004  0.0003  ...  0.0007  0.0006  0.0005  0.0000  0.0000   \n",
       "\n",
       "               YUM     ZBH    ZBRA    ZION     ZTS  \n",
       "Dates                                               \n",
       "2023-01-03  0.0000  0.0000  0.0001  0.0000  0.0000  \n",
       "2023-01-04  0.0001  0.0000  0.0001  0.0007  0.0001  \n",
       "2023-01-05  0.0000  0.0002  0.0001  0.0002  0.0003  \n",
       "2023-01-06  0.0002  0.0000  0.0013  0.0007  0.0001  \n",
       "2023-01-09  0.0000  0.0000  0.0002  0.0000  0.0000  \n",
       "...            ...     ...     ...     ...     ...  \n",
       "2023-12-26  0.0000  0.0000  0.0003  0.0002  0.0000  \n",
       "2023-12-27  0.0000  0.0000  0.0000  0.0000  0.0000  \n",
       "2023-12-28  0.0000  0.0000  0.0000  0.0000  0.0000  \n",
       "2023-12-29  0.0000  0.0000  0.0000  0.0002  0.0000  \n",
       "2024-01-02  0.0000  0.0000  0.0002  0.0001  0.0000  \n",
       "\n",
       "[251 rows x 503 columns]"
      ]
     },
     "execution_count": 27,
     "metadata": {},
     "output_type": "execute_result"
    }
   ],
   "source": [
    "divergencia=effr_i-r_i\n",
    "divergencia.round(4)"
   ]
  },
  {
   "cell_type": "markdown",
   "id": "43fc2b60",
   "metadata": {},
   "source": [
    "# GICS classification"
   ]
  },
  {
   "cell_type": "markdown",
   "id": "153ef4d6",
   "metadata": {},
   "source": [
    "### GICS map beolvasása"
   ]
  },
  {
   "cell_type": "code",
   "execution_count": null,
   "id": "582c85b8",
   "metadata": {},
   "outputs": [],
   "source": [
    "gics = pd.read_excel(r\"C:\\Users\\demet\\Desktop\\Python\\adat\\gics-map-2024.xlsx\")\n",
    "gics[gics[\"SubIndustry\"] == \"Food Retail\"]"
   ]
  },
  {
   "cell_type": "markdown",
   "id": "518a1c28",
   "metadata": {},
   "source": [
    "### Wikipédia beolvasása"
   ]
  },
  {
   "cell_type": "code",
   "execution_count": null,
   "id": "bb5e7000",
   "metadata": {},
   "outputs": [],
   "source": [
    "# Import Packages\n",
    "import bs4 as bs\n",
    "import requests \n",
    "import pandas as pd\n",
    "import re\n",
    "\n",
    "wiki_url = \"https://en.wikipedia.org/wiki/List_of_S%26P_500_companies\"\n",
    "\n",
    "def get_sp500_tickers():\n",
    "  resp = requests.get(wiki_url)\n",
    "  soup = bs.BeautifulSoup(resp.text, \"lxml\")\n",
    "  table = soup.find('table', {'id': 'constituents'})\n",
    "  tickers = []\n",
    "  for row in table.findAll('tr')[1:]:\n",
    "    #print(row.find_all('a'))\n",
    "    \n",
    "    ticker = [t.text.strip() for t in row.find_all('td')]\n",
    "    for link in row.findAll('a'):\n",
    "        ticker.append(link.get('href'))\n",
    "    tickers.append(ticker)\n",
    "   \n",
    "  return tickers\n",
    "\n",
    "\n",
    "data = get_sp500_tickers()\n",
    "\n",
    "# Keep only 14 columns\n",
    "data = [row[0:13] for row in data]\n",
    "\n",
    "# Create Pandas dataframe\n",
    "columns = [\"Ticker\", \"CompanyName\", \"Sector\", \"SubIndustry\", \"Reports\", \"HQLocation\", \"DateFirstAdded\", \"CIK\", \"FoundedYear\", \"QuoteURL\", \"WikiPage\", \"EDGARURL\", \"HQLocationWikiPage\"]\n",
    "df = pd.DataFrame(data=data, columns=columns)\n"
   ]
  },
  {
   "cell_type": "markdown",
   "id": "b1ed9cba",
   "metadata": {},
   "source": [
    "### GICS map és Wikipédia összefűzése"
   ]
  },
  {
   "cell_type": "code",
   "execution_count": null,
   "id": "fefdd87a",
   "metadata": {},
   "outputs": [],
   "source": [
    "# Add gics code column\n",
    "gics_df = pd.DataFrame()\n",
    "for i in range(0, len(df)):\n",
    "    gics_row = gics[gics[\"SubIndustry\"] == df.loc[i,\"SubIndustry\"]]\n",
    "    #if len(gics_row) != 1:\n",
    "     #   print(f\"**** Error in index {i}\\n\\n\", df.loc[i])\n",
    "    gics_df = pd.concat([gics_df, gics_row], ignore_index=True)\n",
    "\n",
    "\n",
    "for col in gics_df.columns:\n",
    "    columns.append(col)\n",
    "    \n",
    "#columns\n",
    "\n",
    "sp500_df=pd.concat([df, gics_df], axis=1)\n",
    "sp500_df=sp500_df.drop(\"Reports\", axis=1)\n",
    "sp500_df=sp500_df.drop(\"HQLocation\", axis=1)\n",
    "sp500_df=sp500_df.drop(\"DateFirstAdded\", axis=1)\n",
    "sp500_df=sp500_df.drop(\"CIK\", axis=1)\n",
    "sp500_df=sp500_df.drop(\"FoundedYear\", axis=1)\n",
    "sp500_df=sp500_df.drop(\"QuoteURL\", axis=1)\n",
    "sp500_df=sp500_df.drop(\"WikiPage\", axis=1)\n",
    "sp500_df=sp500_df.drop(\"EDGARURL\", axis=1)\n",
    "sp500_df=sp500_df.drop(\"HQLocationWikiPage\", axis=1)\n",
    "sp500_df=sp500_df.drop(\"Unnamed: 9\", axis=1)\n",
    "sp500_df=sp500_df.drop(\"SubIndustryDescription\", axis=1)\n",
    "\n",
    "\n",
    "sp500_df\n",
    "\n",
    "#sp500_df.to_csv('sp500gics.csv', index = True) \n",
    "#sp500_df.to_excel('sp500gicsexcel.xlsx', index = True) "
   ]
  },
  {
   "cell_type": "markdown",
   "id": "ccea0693",
   "metadata": {},
   "source": [
    "### 0-1 mátrix"
   ]
  },
  {
   "cell_type": "code",
   "execution_count": 28,
   "id": "d6f52efa",
   "metadata": {},
   "outputs": [],
   "source": [
    "#lementettem az adatletoltessel egyidoben, hogyha valtozik a wikipedian az sp500 osszetetel, akkor ne legyen belole problema\n",
    "matrix=pd.read_excel(r\"C:\\Users\\demet\\Desktop\\Python\\adat\\sp500gicsexcel.xlsx\", sheet_name=\"Sheet1\", index_col=0)"
   ]
  },
  {
   "cell_type": "code",
   "execution_count": 29,
   "id": "7336e317",
   "metadata": {},
   "outputs": [
    {
     "data": {
      "text/html": [
       "<div>\n",
       "<style scoped>\n",
       "    .dataframe tbody tr th:only-of-type {\n",
       "        vertical-align: middle;\n",
       "    }\n",
       "\n",
       "    .dataframe tbody tr th {\n",
       "        vertical-align: top;\n",
       "    }\n",
       "\n",
       "    .dataframe thead th {\n",
       "        text-align: right;\n",
       "    }\n",
       "</style>\n",
       "<table border=\"1\" class=\"dataframe\">\n",
       "  <thead>\n",
       "    <tr style=\"text-align: right;\">\n",
       "      <th>SectorId</th>\n",
       "      <th>10</th>\n",
       "      <th>15</th>\n",
       "      <th>20</th>\n",
       "      <th>25</th>\n",
       "      <th>30</th>\n",
       "      <th>35</th>\n",
       "      <th>40</th>\n",
       "      <th>45</th>\n",
       "      <th>50</th>\n",
       "      <th>55</th>\n",
       "      <th>60</th>\n",
       "    </tr>\n",
       "    <tr>\n",
       "      <th>Ticker</th>\n",
       "      <th></th>\n",
       "      <th></th>\n",
       "      <th></th>\n",
       "      <th></th>\n",
       "      <th></th>\n",
       "      <th></th>\n",
       "      <th></th>\n",
       "      <th></th>\n",
       "      <th></th>\n",
       "      <th></th>\n",
       "      <th></th>\n",
       "    </tr>\n",
       "  </thead>\n",
       "  <tbody>\n",
       "    <tr>\n",
       "      <th>A</th>\n",
       "      <td>0</td>\n",
       "      <td>0</td>\n",
       "      <td>0</td>\n",
       "      <td>0</td>\n",
       "      <td>0</td>\n",
       "      <td>1</td>\n",
       "      <td>0</td>\n",
       "      <td>0</td>\n",
       "      <td>0</td>\n",
       "      <td>0</td>\n",
       "      <td>0</td>\n",
       "    </tr>\n",
       "    <tr>\n",
       "      <th>AAL</th>\n",
       "      <td>0</td>\n",
       "      <td>0</td>\n",
       "      <td>1</td>\n",
       "      <td>0</td>\n",
       "      <td>0</td>\n",
       "      <td>0</td>\n",
       "      <td>0</td>\n",
       "      <td>0</td>\n",
       "      <td>0</td>\n",
       "      <td>0</td>\n",
       "      <td>0</td>\n",
       "    </tr>\n",
       "    <tr>\n",
       "      <th>AAPL</th>\n",
       "      <td>0</td>\n",
       "      <td>0</td>\n",
       "      <td>0</td>\n",
       "      <td>0</td>\n",
       "      <td>0</td>\n",
       "      <td>0</td>\n",
       "      <td>0</td>\n",
       "      <td>1</td>\n",
       "      <td>0</td>\n",
       "      <td>0</td>\n",
       "      <td>0</td>\n",
       "    </tr>\n",
       "    <tr>\n",
       "      <th>ABBV</th>\n",
       "      <td>0</td>\n",
       "      <td>0</td>\n",
       "      <td>0</td>\n",
       "      <td>0</td>\n",
       "      <td>0</td>\n",
       "      <td>1</td>\n",
       "      <td>0</td>\n",
       "      <td>0</td>\n",
       "      <td>0</td>\n",
       "      <td>0</td>\n",
       "      <td>0</td>\n",
       "    </tr>\n",
       "    <tr>\n",
       "      <th>ABNB</th>\n",
       "      <td>0</td>\n",
       "      <td>0</td>\n",
       "      <td>0</td>\n",
       "      <td>1</td>\n",
       "      <td>0</td>\n",
       "      <td>0</td>\n",
       "      <td>0</td>\n",
       "      <td>0</td>\n",
       "      <td>0</td>\n",
       "      <td>0</td>\n",
       "      <td>0</td>\n",
       "    </tr>\n",
       "    <tr>\n",
       "      <th>...</th>\n",
       "      <td>...</td>\n",
       "      <td>...</td>\n",
       "      <td>...</td>\n",
       "      <td>...</td>\n",
       "      <td>...</td>\n",
       "      <td>...</td>\n",
       "      <td>...</td>\n",
       "      <td>...</td>\n",
       "      <td>...</td>\n",
       "      <td>...</td>\n",
       "      <td>...</td>\n",
       "    </tr>\n",
       "    <tr>\n",
       "      <th>YUM</th>\n",
       "      <td>0</td>\n",
       "      <td>0</td>\n",
       "      <td>0</td>\n",
       "      <td>1</td>\n",
       "      <td>0</td>\n",
       "      <td>0</td>\n",
       "      <td>0</td>\n",
       "      <td>0</td>\n",
       "      <td>0</td>\n",
       "      <td>0</td>\n",
       "      <td>0</td>\n",
       "    </tr>\n",
       "    <tr>\n",
       "      <th>ZBH</th>\n",
       "      <td>0</td>\n",
       "      <td>0</td>\n",
       "      <td>0</td>\n",
       "      <td>0</td>\n",
       "      <td>0</td>\n",
       "      <td>1</td>\n",
       "      <td>0</td>\n",
       "      <td>0</td>\n",
       "      <td>0</td>\n",
       "      <td>0</td>\n",
       "      <td>0</td>\n",
       "    </tr>\n",
       "    <tr>\n",
       "      <th>ZBRA</th>\n",
       "      <td>0</td>\n",
       "      <td>0</td>\n",
       "      <td>0</td>\n",
       "      <td>0</td>\n",
       "      <td>0</td>\n",
       "      <td>0</td>\n",
       "      <td>0</td>\n",
       "      <td>1</td>\n",
       "      <td>0</td>\n",
       "      <td>0</td>\n",
       "      <td>0</td>\n",
       "    </tr>\n",
       "    <tr>\n",
       "      <th>ZION</th>\n",
       "      <td>0</td>\n",
       "      <td>0</td>\n",
       "      <td>0</td>\n",
       "      <td>0</td>\n",
       "      <td>0</td>\n",
       "      <td>0</td>\n",
       "      <td>1</td>\n",
       "      <td>0</td>\n",
       "      <td>0</td>\n",
       "      <td>0</td>\n",
       "      <td>0</td>\n",
       "    </tr>\n",
       "    <tr>\n",
       "      <th>ZTS</th>\n",
       "      <td>0</td>\n",
       "      <td>0</td>\n",
       "      <td>0</td>\n",
       "      <td>0</td>\n",
       "      <td>0</td>\n",
       "      <td>1</td>\n",
       "      <td>0</td>\n",
       "      <td>0</td>\n",
       "      <td>0</td>\n",
       "      <td>0</td>\n",
       "      <td>0</td>\n",
       "    </tr>\n",
       "  </tbody>\n",
       "</table>\n",
       "<p>503 rows × 11 columns</p>\n",
       "</div>"
      ],
      "text/plain": [
       "SectorId  10  15  20  25  30  35  40  45  50  55  60\n",
       "Ticker                                              \n",
       "A          0   0   0   0   0   1   0   0   0   0   0\n",
       "AAL        0   0   1   0   0   0   0   0   0   0   0\n",
       "AAPL       0   0   0   0   0   0   0   1   0   0   0\n",
       "ABBV       0   0   0   0   0   1   0   0   0   0   0\n",
       "ABNB       0   0   0   1   0   0   0   0   0   0   0\n",
       "...       ..  ..  ..  ..  ..  ..  ..  ..  ..  ..  ..\n",
       "YUM        0   0   0   1   0   0   0   0   0   0   0\n",
       "ZBH        0   0   0   0   0   1   0   0   0   0   0\n",
       "ZBRA       0   0   0   0   0   0   0   1   0   0   0\n",
       "ZION       0   0   0   0   0   0   1   0   0   0   0\n",
       "ZTS        0   0   0   0   0   1   0   0   0   0   0\n",
       "\n",
       "[503 rows x 11 columns]"
      ]
     },
     "execution_count": 29,
     "metadata": {},
     "output_type": "execute_result"
    }
   ],
   "source": [
    "matrix = pd.crosstab(index=matrix['Ticker'], columns=matrix['SectorId'])\n",
    "matrix"
   ]
  },
  {
   "cell_type": "code",
   "execution_count": 30,
   "id": "6ee69bc3",
   "metadata": {},
   "outputs": [
    {
     "data": {
      "text/plain": [
       "SectorId\n",
       "10    23\n",
       "15    28\n",
       "20    78\n",
       "25    53\n",
       "30    38\n",
       "35    64\n",
       "40    72\n",
       "45    64\n",
       "50    22\n",
       "55    30\n",
       "60    31\n",
       "dtype: int64"
      ]
     },
     "execution_count": 30,
     "metadata": {},
     "output_type": "execute_result"
    }
   ],
   "source": [
    "#hany db ceg tartozik egy-egy sectorba\n",
    "elo=matrix.sum()\n",
    "elo"
   ]
  },
  {
   "cell_type": "markdown",
   "id": "4e22bf7f",
   "metadata": {},
   "source": [
    "# FAKTOROK KISZÁMOLÁSA"
   ]
  },
  {
   "cell_type": "markdown",
   "id": "079865f6",
   "metadata": {},
   "source": [
    "### Momentum"
   ]
  },
  {
   "cell_type": "code",
   "execution_count": 32,
   "id": "0803a134",
   "metadata": {},
   "outputs": [],
   "source": [
    "hozam=effhozam"
   ]
  },
  {
   "cell_type": "code",
   "execution_count": 33,
   "id": "02da085c",
   "metadata": {},
   "outputs": [],
   "source": [
    "hozam_=1+hozam"
   ]
  },
  {
   "cell_type": "code",
   "execution_count": 34,
   "id": "a1b1d872",
   "metadata": {},
   "outputs": [],
   "source": [
    "logar=hozam_.applymap(lambda x: np.log(x) if not pd.isna(x) and x > 0 else np.nan)"
   ]
  },
  {
   "cell_type": "code",
   "execution_count": 35,
   "id": "08728790",
   "metadata": {},
   "outputs": [],
   "source": [
    "logar=logar.fillna(0)"
   ]
  },
  {
   "cell_type": "code",
   "execution_count": 36,
   "id": "3dbb0b9a",
   "metadata": {},
   "outputs": [],
   "source": [
    "start_index = logar.index.get_loc('2023-01-03')\n",
    "end_index = len(logar)\n",
    "\n",
    "momentum = pd.DataFrame(index=logar.index[start_index:end_index], columns=logar.columns)\n",
    "\n",
    "for i in range(start_index, end_index):\n",
    "    sum_values = logar.iloc[i-270:i-9, :].sum()  \n",
    "    momentum.iloc[i-start_index, :] = sum_values"
   ]
  },
  {
   "cell_type": "code",
   "execution_count": 45,
   "id": "e9ea439f",
   "metadata": {},
   "outputs": [],
   "source": [
    "normalmom=pd.DataFrame(index= momentum.index, columns=momentum.columns)\n",
    "for index, row in momentum.iterrows():\n",
    "\n",
    "    row_mean = np.mean(row)\n",
    "\n",
    "    row_std = np.std(row)\n",
    "    \n",
    "    normalized_row = (row - row_mean) / row_std\n",
    "    \n",
    "    normalmom.loc[index] = normalized_row"
   ]
  },
  {
   "cell_type": "code",
   "execution_count": 46,
   "id": "52af97da",
   "metadata": {},
   "outputs": [],
   "source": [
    "momentum=normalmom"
   ]
  },
  {
   "cell_type": "code",
   "execution_count": 47,
   "id": "b76ac36b",
   "metadata": {},
   "outputs": [
    {
     "data": {
      "text/plain": [
       "A       float64\n",
       "AAL     float64\n",
       "AAPL    float64\n",
       "ABBV    float64\n",
       "ABNB    float64\n",
       "         ...   \n",
       "YUM     float64\n",
       "ZBH     float64\n",
       "ZBRA    float64\n",
       "ZION    float64\n",
       "ZTS     float64\n",
       "Length: 503, dtype: object"
      ]
     },
     "execution_count": 47,
     "metadata": {},
     "output_type": "execute_result"
    }
   ],
   "source": [
    "momentum = momentum.astype(float)\n",
    "momentum.dtypes"
   ]
  },
  {
   "cell_type": "code",
   "execution_count": 48,
   "id": "135444e8",
   "metadata": {},
   "outputs": [
    {
     "name": "stdout",
     "output_type": "stream",
     "text": [
      "503\n"
     ]
    }
   ],
   "source": [
    "#NaN ellenőrzése\n",
    "x=0\n",
    "for column in momentum.columns:\n",
    "    has_nan = momentum[column].isnull().any()\n",
    "    if has_nan== False:\n",
    "        x=x+1\n",
    "print(x)"
   ]
  },
  {
   "cell_type": "code",
   "execution_count": 49,
   "id": "3b844b10",
   "metadata": {},
   "outputs": [
    {
     "name": "stdout",
     "output_type": "stream",
     "text": [
      "503\n"
     ]
    }
   ],
   "source": [
    "#Inf ellenőrzése\n",
    "szumma=0\n",
    "for column in momentum.columns:\n",
    "    has_inf = np.isinf(momentum[column]).any()\n",
    "    if has_inf==False:\n",
    "        szumma=szumma+1\n",
    "print(szumma)"
   ]
  },
  {
   "cell_type": "code",
   "execution_count": 40,
   "id": "672052bd",
   "metadata": {},
   "outputs": [],
   "source": [
    "#utolso sorbol eloszlas kirajzolasa\n",
    "momentum_=momentum.iloc[-1]"
   ]
  },
  {
   "cell_type": "code",
   "execution_count": 41,
   "id": "076420b2",
   "metadata": {},
   "outputs": [
    {
     "data": {
      "text/plain": [
       "<Axes: ylabel='Frequency'>"
      ]
     },
     "execution_count": 41,
     "metadata": {},
     "output_type": "execute_result"
    },
    {
     "data": {
      "image/png": "[encoded data removed]",
      "text/plain": [
       "<Figure size 640x480 with 1 Axes>"
      ]
     },
     "metadata": {},
     "output_type": "display_data"
    }
   ],
   "source": [
    "momentum_.plot.hist()"
   ]
  },
  {
   "cell_type": "code",
   "execution_count": 43,
   "id": "d330009c",
   "metadata": {},
   "outputs": [],
   "source": [
    "oszlopok = momentum.iloc[:, [2, 31, 98, 322, 501 ]]\n",
    "transposed_data = oszlopok.T\n",
    "transposed_df = pd.DataFrame(transposed_data)"
   ]
  },
  {
   "cell_type": "code",
   "execution_count": 44,
   "id": "a9c9a158",
   "metadata": {},
   "outputs": [
    {
     "data": {
      "image/png": "[encoded data removed]",
      "text/plain": [
       "<Figure size 600x400 with 1 Axes>"
      ]
     },
     "metadata": {},
     "output_type": "display_data"
    }
   ],
   "source": [
    "plt.figure(figsize=(6, 4))\n",
    "colors = ['dodgerblue',  'gold','lime', 'red', 'chocolate' ]\n",
    "\n",
    "for index, (name, row) in enumerate(transposed_df.iterrows()):\n",
    "    plt.plot(row.index, row.values, color=colors[index], label=f'{name}')\n",
    "\n",
    "plt.legend(loc='center left', bbox_to_anchor=(0, 0.15), fancybox=True, fontsize='x-small',)\n",
    "plt.xticks(rotation=45) \n",
    "plt.show()"
   ]
  },
  {
   "cell_type": "markdown",
   "id": "83615d36",
   "metadata": {},
   "source": [
    "### Dividend Yield"
   ]
  },
  {
   "cell_type": "code",
   "execution_count": 50,
   "id": "1948ee40",
   "metadata": {},
   "outputs": [],
   "source": [
    "eves_div=pd.read_excel(r\"C:\\Users\\demet\\Desktop\\Python\\adat\\faktorok 8-10.xlsx\", sheet_name=\"éves div\", index_col=0)"
   ]
  },
  {
   "cell_type": "code",
   "execution_count": 51,
   "id": "61027773",
   "metadata": {},
   "outputs": [],
   "source": [
    "df = eves_div.replace(0, method='ffill')\n",
    "px_last_rovid=px_last.iloc[1762:2013]"
   ]
  },
  {
   "cell_type": "code",
   "execution_count": 60,
   "id": "22e4eaa3",
   "metadata": {},
   "outputs": [],
   "source": [
    "DivYield_=df/px_last_rovid\n",
    "DivYield_=DivYield_.fillna(0)\n",
    "DivYield_.replace([np.inf, -np.inf], 0, inplace=True)"
   ]
  },
  {
   "cell_type": "code",
   "execution_count": 61,
   "id": "06c4414e",
   "metadata": {},
   "outputs": [],
   "source": [
    "DivYield=DivYield_"
   ]
  },
  {
   "cell_type": "code",
   "execution_count": 62,
   "id": "98c05b21",
   "metadata": {},
   "outputs": [],
   "source": [
    "normaldiv=pd.DataFrame(index= DivYield.index, columns=DivYield.columns)\n",
    "for index, row in DivYield.iterrows():\n",
    "\n",
    "    row_mean = np.mean(row)\n",
    "\n",
    "    row_std = np.std(row)\n",
    "    \n",
    "    normalized_row = (row - row_mean) / row_std\n",
    "    \n",
    "    normaldiv.loc[index] = normalized_row"
   ]
  },
  {
   "cell_type": "code",
   "execution_count": 63,
   "id": "f081a493",
   "metadata": {},
   "outputs": [],
   "source": [
    "DivYield=normaldiv"
   ]
  },
  {
   "cell_type": "code",
   "execution_count": 64,
   "id": "0e92670b",
   "metadata": {},
   "outputs": [
    {
     "data": {
      "text/plain": [
       "A       float64\n",
       "AAL     float64\n",
       "AAPL    float64\n",
       "ABBV    float64\n",
       "ABNB    float64\n",
       "         ...   \n",
       "YUM     float64\n",
       "ZBH     float64\n",
       "ZBRA    float64\n",
       "ZION    float64\n",
       "ZTS     float64\n",
       "Length: 503, dtype: object"
      ]
     },
     "execution_count": 64,
     "metadata": {},
     "output_type": "execute_result"
    }
   ],
   "source": [
    "DivYield=DivYield.astype(float)\n",
    "DivYield.dtypes"
   ]
  },
  {
   "cell_type": "code",
   "execution_count": 65,
   "id": "b731f9b2",
   "metadata": {},
   "outputs": [
    {
     "name": "stdout",
     "output_type": "stream",
     "text": [
      "503\n"
     ]
    }
   ],
   "source": [
    "#NaN ellenorzese\n",
    "x=0\n",
    "for column in DivYield.columns:\n",
    "    has_nan = DivYield[column].isnull().any()\n",
    "    if has_nan== False:\n",
    "        x=x+1\n",
    "print(x)"
   ]
  },
  {
   "cell_type": "code",
   "execution_count": 66,
   "id": "a09a3592",
   "metadata": {},
   "outputs": [
    {
     "name": "stdout",
     "output_type": "stream",
     "text": [
      "503\n"
     ]
    }
   ],
   "source": [
    "#Inf ellenőrzése\n",
    "szumma=0\n",
    "for column in DivYield.columns:\n",
    "    has_inf = np.isinf(DivYield[column]).any()\n",
    "    if has_inf==False:\n",
    "        szumma=szumma+1\n",
    "print(szumma)"
   ]
  },
  {
   "cell_type": "code",
   "execution_count": 57,
   "id": "6383cf3a",
   "metadata": {},
   "outputs": [],
   "source": [
    "DivYield_=DivYield.iloc[-1]"
   ]
  },
  {
   "cell_type": "code",
   "execution_count": 58,
   "id": "55e7d28d",
   "metadata": {},
   "outputs": [
    {
     "data": {
      "text/plain": [
       "<Axes: ylabel='Frequency'>"
      ]
     },
     "execution_count": 58,
     "metadata": {},
     "output_type": "execute_result"
    },
    {
     "data": {
      "image/png": "[encoded data removed]",
      "text/plain": [
       "<Figure size 640x480 with 1 Axes>"
      ]
     },
     "metadata": {},
     "output_type": "display_data"
    }
   ],
   "source": [
    "DivYield_.plot.hist()"
   ]
  },
  {
   "cell_type": "markdown",
   "id": "45da2cbb",
   "metadata": {},
   "source": [
    "### Value"
   ]
  },
  {
   "cell_type": "code",
   "execution_count": 67,
   "id": "a7ebecb6",
   "metadata": {},
   "outputs": [],
   "source": [
    "price_to_book=pd.read_excel(r\"C:\\Users\\demet\\Desktop\\Python\\adat\\faktorok 1-4.xlsx\", sheet_name=\"price to book\", index_col=0)\n",
    "price_to_CF=pd.read_excel(r\"C:\\Users\\demet\\Desktop\\Python\\adat\\faktorok 1-4.xlsx\", sheet_name=\"price to cf\", index_col=0)\n",
    "P_per_E_=pd.read_excel(r\"C:\\Users\\demet\\Desktop\\Python\\adat\\faktorok 1-4.xlsx\", sheet_name=\"p per e rata\", index_col=0)\n",
    "EBITDA_=pd.read_excel(r\"C:\\Users\\demet\\Desktop\\Python\\adat\\faktorok 1-4.xlsx\", sheet_name=\"EBITDA\", index_col=0)\n",
    "SALES_=pd.read_excel(r\"C:\\Users\\demet\\Desktop\\Python\\adat\\faktorok 1-4.xlsx\", sheet_name=\"SALES\", index_col=0)\n",
    "For_PE=pd.read_excel(r\"C:\\Users\\demet\\Desktop\\Python\\adat\\faktorok 1-4.xlsx\", sheet_name=\"forcasted p per e\", index_col=0)\n",
    "Market_cap=pd.read_excel(r\"C:\\Users\\demet\\Desktop\\Python\\adat\\faktorok 1-4.xlsx\", sheet_name=\"Market cap\", index_col=0)\n",
    "LT_Debt_=pd.read_excel(r\"C:\\Users\\demet\\Desktop\\Python\\adat\\faktorok 1-4.xlsx\", sheet_name=\"LT DEBT\", index_col=0)\n",
    "ST_Debt_=pd.read_excel(r\"C:\\Users\\demet\\Desktop\\Python\\adat\\faktorok 1-4.xlsx\", sheet_name=\"ST DEBT\", index_col=0)\n",
    "cash_=pd.read_excel(r\"C:\\Users\\demet\\Desktop\\Python\\adat\\faktorok 1-4.xlsx\", sheet_name=\"cash\", index_col=0)\n",
    "total_asset_=pd.read_excel(r\"C:\\Users\\demet\\Desktop\\Python\\adat\\faktorok 1-4.xlsx\", sheet_name=\"Total Asset\", index_col=0)"
   ]
  },
  {
   "cell_type": "code",
   "execution_count": 68,
   "id": "eb3061ce",
   "metadata": {},
   "outputs": [],
   "source": [
    "For_PE=pd.read_excel(r\"C:\\Users\\demet\\Desktop\\Python\\adat\\faktorok 1-4.xlsx\", sheet_name=\"forcasted p per e\", index_col=0)\n",
    "P_per_E_=pd.read_excel(r\"C:\\Users\\demet\\Desktop\\Python\\adat\\faktorok 1-4.xlsx\", sheet_name=\"p per e rata\", index_col=0)"
   ]
  },
  {
   "cell_type": "code",
   "execution_count": 70,
   "id": "8c40bba8",
   "metadata": {},
   "outputs": [],
   "source": [
    "book_to_price=1/price_to_book\n",
    "book_to_price.replace([np.inf, -np.inf], 0, inplace=True)\n",
    "book_to_price=book_to_price.fillna(0)"
   ]
  },
  {
   "cell_type": "code",
   "execution_count": 71,
   "id": "21568bb0",
   "metadata": {},
   "outputs": [],
   "source": [
    "CF_to_price=1/price_to_CF\n",
    "CF_to_price.replace([np.inf, -np.inf], 0, inplace=True)\n",
    "CF_to_price=CF_to_price.fillna(0)"
   ]
  },
  {
   "cell_type": "code",
   "execution_count": 72,
   "id": "a5eb21ee",
   "metadata": {},
   "outputs": [],
   "source": [
    "#P/E extrapolalas atlaggal\n",
    "start_index = P_per_E_.index.get_loc('2023-01-03')\n",
    "end_index = len(P_per_E_)\n",
    "forp_e_2y = pd.DataFrame(index=P_per_E_.index[start_index:end_index], columns=P_per_E_.columns)\n",
    "\n",
    "for column_name in P_per_E_.columns:\n",
    "    for i in range(start_index, end_index):\n",
    "        tarol = []\n",
    "        for k in range(5, -1, -1):\n",
    "            x = P_per_E_.iloc[i - k * 252][column_name]\n",
    "            tarol.append(x)\n",
    "        y=For_PE.iloc[i-start_index][column_name]\n",
    "        tarol.append(y)\n",
    "        atlag3=sum(tarol)/len(tarol)\n",
    "        forp_e_2y.iloc[i - start_index][column_name] = atlag3"
   ]
  },
  {
   "cell_type": "code",
   "execution_count": 73,
   "id": "0b6845f6",
   "metadata": {},
   "outputs": [],
   "source": [
    "P_per_E=P_per_E_.iloc[1762:2013]\n",
    "E_per_P=1/P_per_E\n",
    "E_per_P.replace([np.inf, -np.inf], 0, inplace=True)\n",
    "E_per_P=E_per_P.fillna(0)"
   ]
  },
  {
   "cell_type": "code",
   "execution_count": 74,
   "id": "b9e15230",
   "metadata": {},
   "outputs": [],
   "source": [
    "EBITDA_ism = EBITDA_.replace(0, method='ffill')\n",
    "SALES_ism = SALES_.replace(0, method='ffill')\n",
    "LT_Debt_ism = LT_Debt_.replace(0, method='ffill')\n",
    "ST_Debt_ism = ST_Debt_.replace(0, method='ffill')\n",
    "cash_ism = cash_.replace(0, method='ffill')\n",
    "total_asset_ism = total_asset_.replace(0, method='ffill')"
   ]
  },
  {
   "cell_type": "code",
   "execution_count": 75,
   "id": "07a5c454",
   "metadata": {},
   "outputs": [],
   "source": [
    "EBITDA= EBITDA_ism.iloc[1762:2013]\n",
    "SALES= SALES_ism.iloc[1762:2013]\n",
    "LT_Debt= LT_Debt_ism.iloc[1762:2013]\n",
    "ST_Debt= ST_Debt_ism.iloc[1762:2013]\n",
    "cash= cash_ism.iloc[1762:2013]\n",
    "total_asset= total_asset_ism .iloc[1762:2013]"
   ]
  },
  {
   "cell_type": "code",
   "execution_count": 76,
   "id": "411d2378",
   "metadata": {},
   "outputs": [],
   "source": [
    "nulla=ST_Debt*0\n",
    "EV=Market_cap+LT_Debt+np.maximum(ST_Debt-cash, nulla)\n",
    "Ebitda_per_ev=EBITDA/EV\n",
    "Ebitda_per_ev.replace([np.inf, -np.inf], 0, inplace=True)\n",
    "Ebitda_per_ev=Ebitda_per_ev.fillna(0)"
   ]
  },
  {
   "cell_type": "code",
   "execution_count": 77,
   "id": "1e209daa",
   "metadata": {},
   "outputs": [],
   "source": [
    "forep_2y = pd.DataFrame(index=P_per_E.index[start_index:end_index], columns=P_per_E.columns)\n",
    "for col in forp_e_2y.columns:\n",
    "    forep_2y[col] = forp_e_2y[col].apply(lambda x: 1 / x if x != 0 else 0)"
   ]
  },
  {
   "cell_type": "code",
   "execution_count": 78,
   "id": "d95b6748",
   "metadata": {},
   "outputs": [],
   "source": [
    "For_EP=0.5*(1/For_PE)+0.5*forep_2y\n",
    "For_EP.replace([np.inf, -np.inf], 0, inplace=True)\n",
    "For_EP=For_EP.fillna(0)"
   ]
  },
  {
   "cell_type": "code",
   "execution_count": 79,
   "id": "6dd28873",
   "metadata": {},
   "outputs": [],
   "source": [
    "SalesEV=SALES/EV\n",
    "SalesEV.replace([np.inf, -np.inf], 0, inplace=True)\n",
    "SalesEV=SalesEV.fillna(0)"
   ]
  },
  {
   "cell_type": "code",
   "execution_count": 80,
   "id": "c5882cf5",
   "metadata": {},
   "outputs": [],
   "source": [
    "Value=0.13*book_to_price+0.18*CF_to_price+0.18*E_per_P+0.21*Ebitda_per_ev+0.16*For_EP+0.13*SalesEV"
   ]
  },
  {
   "cell_type": "code",
   "execution_count": 90,
   "id": "5abbfd87",
   "metadata": {},
   "outputs": [],
   "source": [
    "normalval=pd.DataFrame(index= Value.index, columns=Value.columns)\n",
    "for index, row in Value.iterrows():\n",
    "\n",
    "    row_mean = np.mean(row)\n",
    "\n",
    "    row_std = np.std(row)\n",
    "    \n",
    "    normalized_row = (row - row_mean) / np.sqrt(row_std)\n",
    "    \n",
    "    \n",
    "    normalval.loc[index] = normalized_row"
   ]
  },
  {
   "cell_type": "code",
   "execution_count": 91,
   "id": "e6bd05de",
   "metadata": {},
   "outputs": [],
   "source": [
    "Value=normalval\n",
    "Value=Value.astype(float)"
   ]
  },
  {
   "cell_type": "code",
   "execution_count": 92,
   "id": "97acf999",
   "metadata": {},
   "outputs": [
    {
     "name": "stdout",
     "output_type": "stream",
     "text": [
      "503\n"
     ]
    }
   ],
   "source": [
    "#NaN ellenorzese\n",
    "x=0\n",
    "for column in Value.columns:\n",
    "    has_nan = Value[column].isnull().any()\n",
    "    if has_nan== False:\n",
    "        x=x+1\n",
    "print(x)"
   ]
  },
  {
   "cell_type": "code",
   "execution_count": 93,
   "id": "16cb5ed0",
   "metadata": {},
   "outputs": [
    {
     "name": "stdout",
     "output_type": "stream",
     "text": [
      "503\n"
     ]
    }
   ],
   "source": [
    "#inf ellenorzese\n",
    "szumma=0\n",
    "for column in Value.columns:\n",
    "    has_inf = np.isinf(Value[column]).any()\n",
    "    if has_inf==False:\n",
    "        szumma=szumma+1\n",
    "print(szumma)"
   ]
  },
  {
   "cell_type": "code",
   "execution_count": 82,
   "id": "fe8f8e8a",
   "metadata": {},
   "outputs": [],
   "source": [
    "Value_=Value.iloc[250]"
   ]
  },
  {
   "cell_type": "code",
   "execution_count": 83,
   "id": "811fc879",
   "metadata": {},
   "outputs": [
    {
     "data": {
      "text/plain": [
       "<Axes: ylabel='Frequency'>"
      ]
     },
     "execution_count": 83,
     "metadata": {},
     "output_type": "execute_result"
    },
    {
     "data": {
      "image/png": "[encoded data removed]",
      "text/plain": [
       "<Figure size 640x480 with 1 Axes>"
      ]
     },
     "metadata": {},
     "output_type": "display_data"
    }
   ],
   "source": [
    "Value_.plot.hist()"
   ]
  },
  {
   "cell_type": "code",
   "execution_count": 88,
   "id": "e64833e9",
   "metadata": {},
   "outputs": [],
   "source": [
    "oszlopok = Value.iloc[:, [2, 435, 323, 501, 90, 264]]\n",
    "transposed_data = oszlopok.T\n",
    "transposed_df = pd.DataFrame(transposed_data)"
   ]
  },
  {
   "cell_type": "code",
   "execution_count": 89,
   "id": "85217706",
   "metadata": {},
   "outputs": [
    {
     "data": {
      "image/png": "[encoded data removed]",
      "text/plain": [
       "<Figure size 600x400 with 1 Axes>"
      ]
     },
     "metadata": {},
     "output_type": "display_data"
    }
   ],
   "source": [
    "plt.figure(figsize=(6, 4))\n",
    "colors = ['dodgerblue', 'orange', 'black', 'red',  'gold', 'lime', 'green','chocolate',  'gray', 'yellow']\n",
    "\n",
    "for index, (name, row) in enumerate(transposed_df.iterrows()):\n",
    "    plt.plot(row.index, row.values, color=colors[index], label=f'{name}')\n",
    "\n",
    "plt.legend(loc='center left', bbox_to_anchor=(0, 0.79), fancybox=True, fontsize='small', ncol=1)\n",
    "#plt.ylim(-0.065, 0.065)\n",
    "plt.xticks(rotation=45) \n",
    "plt.show()"
   ]
  },
  {
   "cell_type": "markdown",
   "id": "8fa5c066",
   "metadata": {},
   "source": [
    "### Size"
   ]
  },
  {
   "cell_type": "code",
   "execution_count": 94,
   "id": "2680e6f4",
   "metadata": {},
   "outputs": [],
   "source": [
    "logmc=Market_cap.applymap(lambda x: np.log(x) if not pd.isna(x) and x > 0 else np.nan)\n",
    "logmc=logmc.fillna(0)"
   ]
  },
  {
   "cell_type": "code",
   "execution_count": 95,
   "id": "ca70536e",
   "metadata": {},
   "outputs": [],
   "source": [
    "logsales=SALES.applymap(lambda x: np.log(x) if not pd.isna(x) and x > 0 else np.nan)\n",
    "logsales=logsales.fillna(0)"
   ]
  },
  {
   "cell_type": "code",
   "execution_count": 96,
   "id": "79ce1fd2",
   "metadata": {},
   "outputs": [],
   "source": [
    "logta=total_asset.applymap(lambda x: np.log(x) if not pd.isna(x) and x > 0 else np.nan)\n",
    "logta=logta.fillna(0)"
   ]
  },
  {
   "cell_type": "code",
   "execution_count": 97,
   "id": "2e73fafd",
   "metadata": {},
   "outputs": [],
   "source": [
    "Size=0.28*logmc+0.36*logsales+0.36*logta"
   ]
  },
  {
   "cell_type": "code",
   "execution_count": 98,
   "id": "2b33fcc1",
   "metadata": {},
   "outputs": [],
   "source": [
    "normal=pd.DataFrame(index= Size.index, columns=Size.columns)\n",
    "for index, row in Size.iterrows():\n",
    "\n",
    "    row_mean = np.mean(row)\n",
    "\n",
    "    row_std = np.std(row)\n",
    "    \n",
    "    normalized_row = (row - row_mean) / row_std\n",
    "    \n",
    "    normal.loc[index] = normalized_row"
   ]
  },
  {
   "cell_type": "code",
   "execution_count": 99,
   "id": "3942fa82",
   "metadata": {},
   "outputs": [],
   "source": [
    "Size=normal"
   ]
  },
  {
   "cell_type": "code",
   "execution_count": 102,
   "id": "b40206c2",
   "metadata": {},
   "outputs": [],
   "source": [
    "Size=Size.astype(float)"
   ]
  },
  {
   "cell_type": "code",
   "execution_count": 103,
   "id": "4ab806b0",
   "metadata": {},
   "outputs": [
    {
     "name": "stdout",
     "output_type": "stream",
     "text": [
      "503\n"
     ]
    }
   ],
   "source": [
    "#NaN ellenorzese\n",
    "x=0\n",
    "for column in Size.columns:\n",
    "    has_nan = Size[column].isnull().any()\n",
    "    if has_nan== False:\n",
    "        x=x+1\n",
    "print(x)"
   ]
  },
  {
   "cell_type": "code",
   "execution_count": 104,
   "id": "65b158fc",
   "metadata": {},
   "outputs": [
    {
     "name": "stdout",
     "output_type": "stream",
     "text": [
      "503\n"
     ]
    }
   ],
   "source": [
    "#inf ellenorzese\n",
    "szumma=0\n",
    "for column in Size.columns:\n",
    "    has_inf = np.isinf(Size[column]).any()\n",
    "    if has_inf==False:\n",
    "        szumma=szumma+1\n",
    "print(szumma)"
   ]
  },
  {
   "cell_type": "markdown",
   "id": "2d1e95c3",
   "metadata": {},
   "source": [
    "### Trading Activity"
   ]
  },
  {
   "cell_type": "code",
   "execution_count": 105,
   "id": "d01df8cf",
   "metadata": {},
   "outputs": [],
   "source": [
    "volume=pd.read_excel(r\"C:\\Users\\demet\\Desktop\\Python\\adat\\faktorok 1-4.xlsx\", sheet_name=\"Volume\", index_col=0)\n",
    "shares_out=pd.read_excel(r\"C:\\Users\\demet\\Desktop\\Python\\adat\\faktorok 1-4.xlsx\", sheet_name=\"SH OUT\", index_col=0)"
   ]
  },
  {
   "cell_type": "code",
   "execution_count": 106,
   "id": "2c940a2a",
   "metadata": {},
   "outputs": [],
   "source": [
    "#Volume/Share outstanding\n",
    "v_per_s=volume/(shares_out*1000000)\n",
    "v_per_s=v_per_s.fillna(0)\n",
    "v_per_s.replace([np.inf, -np.inf], 0, inplace=True)"
   ]
  },
  {
   "cell_type": "code",
   "execution_count": 107,
   "id": "7e456c2a",
   "metadata": {},
   "outputs": [],
   "source": [
    "start_index = v_per_s.index.get_loc('2023-01-03')\n",
    "end_index = len(v_per_s)\n",
    "trad_act = pd.DataFrame(index=v_per_s.index[start_index:end_index], columns=v_per_s.columns)\n",
    "\n",
    "sum_values=0\n",
    "for i in range(start_index, end_index):\n",
    "    for k in range(-500, 0):\n",
    "        x=np.exp(k*np.log(2)/180)*v_per_s.iloc[i+k, :]\n",
    "        sum_values = sum_values+x\n",
    "    trad_act.iloc[i-start_index, :] = sum_values\n",
    "    sum_values=0"
   ]
  },
  {
   "cell_type": "code",
   "execution_count": 108,
   "id": "49a186ba",
   "metadata": {},
   "outputs": [],
   "source": [
    "normaltrad=pd.DataFrame(index= trad_act.index, columns=trad_act.columns)\n",
    "for index, row in trad_act.iterrows():\n",
    "    row_mean = np.mean(row)\n",
    "    row_std = np.std(row)\n",
    "    normalized_row = (row - row_mean) / row_std\n",
    "    normaltrad.loc[index] = normalized_row"
   ]
  },
  {
   "cell_type": "code",
   "execution_count": 109,
   "id": "5e37ff0f",
   "metadata": {},
   "outputs": [],
   "source": [
    "trad_act=normaltrad"
   ]
  },
  {
   "cell_type": "code",
   "execution_count": 110,
   "id": "4cfc3fac",
   "metadata": {},
   "outputs": [],
   "source": [
    "trad_act=trad_act.astype(float)"
   ]
  },
  {
   "cell_type": "code",
   "execution_count": 111,
   "id": "edaddcbc",
   "metadata": {},
   "outputs": [
    {
     "name": "stdout",
     "output_type": "stream",
     "text": [
      "503\n"
     ]
    }
   ],
   "source": [
    "#NaN ellenorzese\n",
    "x=0\n",
    "for column in trad_act.columns:\n",
    "    has_nan = trad_act[column].isnull().any()\n",
    "    if has_nan== False:\n",
    "        x=x+1\n",
    "print(x)"
   ]
  },
  {
   "cell_type": "code",
   "execution_count": 112,
   "id": "7507369f",
   "metadata": {},
   "outputs": [
    {
     "name": "stdout",
     "output_type": "stream",
     "text": [
      "503\n"
     ]
    }
   ],
   "source": [
    "#inf ellenorzese\n",
    "szumma=0\n",
    "for column in trad_act.columns:\n",
    "    has_inf = np.isinf(trad_act[column]).any()\n",
    "    if has_inf==False:\n",
    "        szumma=szumma+1\n",
    "print(szumma)"
   ]
  },
  {
   "cell_type": "markdown",
   "id": "d514a310",
   "metadata": {},
   "source": [
    "### Growth Forecast"
   ]
  },
  {
   "cell_type": "code",
   "execution_count": 113,
   "id": "08baa4fb",
   "metadata": {},
   "outputs": [],
   "source": [
    "eps_=pd.read_excel(r\"C:\\Users\\demet\\Desktop\\Python\\adat\\faktorok kieg.xlsx\", sheet_name=\"EPS 2016\", index_col=0)\n",
    "eps1y_=pd.read_excel(r\"C:\\Users\\demet\\Desktop\\Python\\adat\\faktorok kieg.xlsx\", sheet_name=\"best eps next year\", index_col=0)\n",
    "sales1y_=pd.read_excel(r\"C:\\Users\\demet\\Desktop\\Python\\adat\\faktorok kieg.xlsx\", sheet_name=\"best sales\", index_col=0)"
   ]
  },
  {
   "cell_type": "code",
   "execution_count": 114,
   "id": "be808651",
   "metadata": {},
   "outputs": [],
   "source": [
    "eps=eps_.replace(0, method='ffill')\n",
    "eps1y=eps1y_.replace(0, method='ffill')\n",
    "sales1y=sales1y_.replace(0, method='ffill')"
   ]
  },
  {
   "cell_type": "code",
   "execution_count": 116,
   "id": "b0abd5fa",
   "metadata": {},
   "outputs": [],
   "source": [
    "#eps2y extrapolalas atlaggal\n",
    "start_index = eps.index.get_loc('2023-01-03')\n",
    "end_index = len(eps)\n",
    "eps2y = pd.DataFrame(index=eps.index[start_index:end_index], columns=eps.columns)\n",
    "\n",
    "for column_name in eps.columns:\n",
    "    for i in range(start_index, end_index):\n",
    "        tarol = []\n",
    "        for k in range(5, -1, -1):\n",
    "            x = eps.iloc[i - k * 252][column_name]\n",
    "            tarol.append(x)\n",
    "        y=eps1y.iloc[i][column_name]\n",
    "        tarol.append(y)\n",
    "        atlag = sum(tarol) / len(tarol)\n",
    "        eps2y.iloc[i - start_index][column_name] = atlag"
   ]
  },
  {
   "cell_type": "code",
   "execution_count": 117,
   "id": "1f9b982a",
   "metadata": {},
   "outputs": [],
   "source": [
    "#sales2y extrapolalas atlaggal\n",
    "start_index = SALES_ism.index.get_loc('2023-01-03')\n",
    "end_index = len(SALES_ism)\n",
    "sales2y = pd.DataFrame(index=SALES_ism.index[start_index:end_index], columns=SALES_ism.columns)\n",
    "\n",
    "for column_name in SALES_ism.columns:\n",
    "    for i in range(start_index, end_index):\n",
    "        tarol = []\n",
    "        for k in range(5, -1, -1):\n",
    "            x = SALES_ism.iloc[i - k * 252][column_name]\n",
    "            tarol.append(x)\n",
    "        y=sales1y.iloc[i][column_name]\n",
    "        tarol.append(y)\n",
    "        atlag2 = sum(tarol) / len(tarol)\n",
    "        sales2y.iloc[i - start_index][column_name] = atlag2"
   ]
  },
  {
   "cell_type": "code",
   "execution_count": 118,
   "id": "5bb8589e",
   "metadata": {},
   "outputs": [],
   "source": [
    "eps1y_2023=eps1y.iloc[1762:2013]\n",
    "sales1y_2023=sales1y.iloc[1762:2013]"
   ]
  },
  {
   "cell_type": "markdown",
   "id": "c4267f96",
   "metadata": {},
   "source": [
    "### Growth"
   ]
  },
  {
   "cell_type": "code",
   "execution_count": 119,
   "id": "4d98fd1b",
   "metadata": {},
   "outputs": [],
   "source": [
    "EPS_=pd.read_excel(r\"C:\\Users\\demet\\Desktop\\Python\\adat\\faktorok kieg.xlsx\", sheet_name=\"EPS 2016\", index_col=0)\n",
    "Earnings_=pd.read_excel(r\"C:\\Users\\demet\\Desktop\\Python\\adat\\faktorok 5-7.xlsx\", sheet_name=\"is inc bef xo item 2016\", index_col=0)"
   ]
  },
  {
   "cell_type": "code",
   "execution_count": 121,
   "id": "099db42e",
   "metadata": {},
   "outputs": [],
   "source": [
    "Earnings_ism = Earnings_.replace(0, method='ffill')"
   ]
  },
  {
   "cell_type": "code",
   "execution_count": 122,
   "id": "878fe97f",
   "metadata": {},
   "outputs": [],
   "source": [
    "#total asset szamlalója\n",
    "start_index = total_asset_ism.index.get_loc('2023-01-03')\n",
    "end_index = len(total_asset_ism)\n",
    "totass_szamlalo = pd.DataFrame(index=total_asset_ism.index[start_index:end_index], columns=total_asset_ism.columns)\n",
    "\n",
    "for i in range(start_index, end_index):\n",
    "    lista=[]\n",
    "    for k in range(1, 6):\n",
    "        diff = total_asset_ism.iloc[i-(k-1)*251] - total_asset_ism.iloc[i - k * 251]\n",
    "        lista.append(diff)\n",
    "    x= sum(lista) / len(lista)\n",
    "    totass_szamlalo.iloc[i-start_index, :] = x"
   ]
  },
  {
   "cell_type": "code",
   "execution_count": 123,
   "id": "312b0588",
   "metadata": {},
   "outputs": [],
   "source": [
    "#sales szamlalója\n",
    "start_index = SALES_ism.index.get_loc('2023-01-03')\n",
    "end_index = len(SALES_ism)\n",
    "sales_szamlalo = pd.DataFrame(index=SALES_ism.index[start_index:end_index], columns=SALES_ism.columns)\n",
    "\n",
    "for i in range(start_index, end_index):\n",
    "    lista=[]\n",
    "    for k in range(1, 6):\n",
    "        diff = SALES_ism.iloc[i-(k-1)*251] - SALES_ism.iloc[i - k * 251]\n",
    "        lista.append(diff)\n",
    "    x= sum(lista) / len(lista)\n",
    "    sales_szamlalo.iloc[i-start_index, :] = x"
   ]
  },
  {
   "cell_type": "code",
   "execution_count": 124,
   "id": "b9ea486d",
   "metadata": {},
   "outputs": [],
   "source": [
    "#Earnings szamlalója\n",
    "start_index = Earnings_ism.index.get_loc('2023-01-03')\n",
    "end_index = len(Earnings_ism)\n",
    "earnings_szamlalo = pd.DataFrame(index=Earnings_ism.index[start_index:end_index], columns=Earnings_ism.columns)\n",
    "\n",
    "for i in range(start_index, end_index):\n",
    "    lista=[]\n",
    "    for k in range(1, 6):\n",
    "        diff = Earnings_ism.iloc[i-(k-1)*251] - Earnings_ism.iloc[i - k * 251]\n",
    "        lista.append(diff)\n",
    "    x= sum(lista) / len(lista)\n",
    "    earnings_szamlalo.iloc[i-start_index, :] = x"
   ]
  },
  {
   "cell_type": "code",
   "execution_count": 125,
   "id": "cb912bcb",
   "metadata": {},
   "outputs": [],
   "source": [
    "#total asset nevező\n",
    "total_asset_nan=total_asset_.replace(0, np.nan)\n",
    "start_index = total_asset_nan.index.get_loc('2023-01-03')\n",
    "total_ass_nevezo = pd.DataFrame(index=total_asset_nan.index[start_index:], columns=total_asset_nan.columns)\n",
    "\n",
    "for column in total_asset_nan.columns:\n",
    "    atlag_lista = []\n",
    "    for i in range(start_index, len(total_asset_nan)):\n",
    "        window = total_asset_nan.loc[total_asset_nan.index[i-1260]:total_asset_nan.index[i], column]  \n",
    "        atlag = window.mean()             \n",
    "        atlag_lista.append(atlag)\n",
    "\n",
    "    total_ass_nevezo [column] = atlag_lista"
   ]
  },
  {
   "cell_type": "code",
   "execution_count": 126,
   "id": "5a00d55d",
   "metadata": {},
   "outputs": [],
   "source": [
    "TAG=totass_szamlalo/total_ass_nevezo \n",
    "SG=sales_szamlalo/total_ass_nevezo \n",
    "EG=earnings_szamlalo/total_ass_nevezo \n",
    "EFG=eps2y/eps1y_2023\n",
    "SFG=sales2y/sales1y_2023\n",
    "TAG=TAG.fillna(0)\n",
    "TAG.replace([np.inf, -np.inf], 0, inplace=True)\n",
    "SG=SG.fillna(0)\n",
    "SG.replace([np.inf, -np.inf], 0, inplace=True)\n",
    "EG=EG.fillna(0)\n",
    "EG.replace([np.inf, -np.inf], 0, inplace=True)\n",
    "EFG=EFG.fillna(0)\n",
    "EFG.replace([np.inf, -np.inf], 0, inplace=True)\n",
    "SFG=SFG.fillna(0)\n",
    "SFG.replace([np.inf, -np.inf], 0, inplace=True)"
   ]
  },
  {
   "cell_type": "code",
   "execution_count": 132,
   "id": "934bb177",
   "metadata": {},
   "outputs": [],
   "source": [
    "Growth=0.23*TAG+0.26*SG+0.15*EG+0.16*EFG+0.2*SFG"
   ]
  },
  {
   "cell_type": "code",
   "execution_count": 133,
   "id": "9ababc86",
   "metadata": {},
   "outputs": [],
   "source": [
    "normalgr=pd.DataFrame(index= Growth.index, columns=Growth.columns)\n",
    "for index, row in Growth.iterrows():\n",
    "    row_mean = np.mean(row)\n",
    "    row_std = np.std(row)\n",
    "    normalized_row = (row - row_mean) / row_std\n",
    "    normalgr.loc[index] = normalized_row"
   ]
  },
  {
   "cell_type": "code",
   "execution_count": 134,
   "id": "be13cc41",
   "metadata": {},
   "outputs": [],
   "source": [
    "Growth=normalgr\n",
    "Growth=Growth.astype(float)"
   ]
  },
  {
   "cell_type": "code",
   "execution_count": 135,
   "id": "32865233",
   "metadata": {},
   "outputs": [
    {
     "name": "stdout",
     "output_type": "stream",
     "text": [
      "503\n"
     ]
    }
   ],
   "source": [
    "#NaN ellenorzese\n",
    "x=0\n",
    "for column in Growth.columns:\n",
    "    has_nan = Growth[column].isnull().any()\n",
    "    if has_nan== False:\n",
    "        x=x+1\n",
    "print(x)"
   ]
  },
  {
   "cell_type": "code",
   "execution_count": 136,
   "id": "e67bafa5",
   "metadata": {},
   "outputs": [
    {
     "name": "stdout",
     "output_type": "stream",
     "text": [
      "503\n"
     ]
    }
   ],
   "source": [
    "#inf ellenorzese\n",
    "szumma=0\n",
    "for column in Growth.columns:\n",
    "    has_inf = np.isinf(Growth[column]).any()\n",
    "    if has_inf==False:\n",
    "        szumma=szumma+1\n",
    "print(szumma)"
   ]
  },
  {
   "cell_type": "code",
   "execution_count": null,
   "id": "f02bf8f4",
   "metadata": {},
   "outputs": [],
   "source": [
    "Growth_=Growth.iloc[-1]"
   ]
  },
  {
   "cell_type": "code",
   "execution_count": null,
   "id": "7bbfd5f7",
   "metadata": {},
   "outputs": [],
   "source": [
    "Growth_.plot.hist()"
   ]
  },
  {
   "cell_type": "markdown",
   "id": "241eff19",
   "metadata": {},
   "source": [
    "### Leverage"
   ]
  },
  {
   "cell_type": "code",
   "execution_count": 137,
   "id": "eeeaa9d3",
   "metadata": {},
   "outputs": [],
   "source": [
    "book_value_=pd.read_excel(r\"C:\\Users\\demet\\Desktop\\Python\\adat\\faktorok 5-7.xlsx\", sheet_name=\"book value\", index_col=0)"
   ]
  },
  {
   "cell_type": "code",
   "execution_count": 138,
   "id": "1068b4ef",
   "metadata": {},
   "outputs": [],
   "source": [
    "book_value_ism = book_value_.replace(0, method='ffill')\n",
    "book_value= book_value_ism.iloc[1762:2013]"
   ]
  },
  {
   "cell_type": "code",
   "execution_count": 139,
   "id": "f88b6664",
   "metadata": {},
   "outputs": [],
   "source": [
    "szamlalo=LT_Debt+np.maximum(ST_Debt-cash, nulla)\n",
    "nevezo=book_value+LT_Debt+np.maximum(ST_Debt-cash, nulla)\n",
    "\n",
    "BLev=szamlalo/nevezo\n",
    "BLev=BLev.fillna(0)\n",
    "BLev.replace([np.inf, -np.inf], 0, inplace=True)\n",
    "\n",
    "MLev=szamlalo/EV\n",
    "MLev=MLev.fillna(0)\n",
    "MLev.replace([np.inf, -np.inf], 0, inplace=True)\n",
    "\n",
    "D2TA=szamlalo/total_asset\n",
    "D2TA=D2TA.fillna(0)\n",
    "D2TA.replace([np.inf, -np.inf], 0, inplace=True)"
   ]
  },
  {
   "cell_type": "code",
   "execution_count": 140,
   "id": "a7426383",
   "metadata": {},
   "outputs": [],
   "source": [
    "Leverage=0.34*BLev+0.33*MLev+0.33*D2TA"
   ]
  },
  {
   "cell_type": "code",
   "execution_count": 141,
   "id": "092f6bb2",
   "metadata": {},
   "outputs": [],
   "source": [
    "normallev=pd.DataFrame(index= Leverage.index, columns=Leverage.columns)\n",
    "for index, row in Leverage.iterrows():\n",
    "    row_mean = np.mean(row)\n",
    "    row_std = np.std(row)\n",
    "    normalized_row = (row - row_mean) / row_std\n",
    "    normallev.loc[index] = normalized_row"
   ]
  },
  {
   "cell_type": "code",
   "execution_count": 142,
   "id": "ba144661",
   "metadata": {},
   "outputs": [],
   "source": [
    "Leverage=normallev\n",
    "Leverage=Leverage.astype(float)"
   ]
  },
  {
   "cell_type": "code",
   "execution_count": 143,
   "id": "5b8f34cb",
   "metadata": {},
   "outputs": [
    {
     "name": "stdout",
     "output_type": "stream",
     "text": [
      "503\n"
     ]
    }
   ],
   "source": [
    "#NaN ellenorzese\n",
    "x=0\n",
    "for column in Leverage.columns:\n",
    "    has_nan = Leverage[column].isnull().any()\n",
    "    if has_nan== False:\n",
    "        x=x+1\n",
    "print(x)"
   ]
  },
  {
   "cell_type": "code",
   "execution_count": 144,
   "id": "529926bc",
   "metadata": {},
   "outputs": [
    {
     "name": "stdout",
     "output_type": "stream",
     "text": [
      "503\n"
     ]
    }
   ],
   "source": [
    "#inf ellenorzese\n",
    "szumma=0\n",
    "for column in Leverage.columns:\n",
    "    has_inf = np.isinf(Leverage[column]).any()\n",
    "    if has_inf==False:\n",
    "        szumma=szumma+1\n",
    "print(szumma)"
   ]
  },
  {
   "cell_type": "code",
   "execution_count": null,
   "id": "199bdeb8",
   "metadata": {},
   "outputs": [],
   "source": [
    "Leverage_=Leverage.iloc[-1]"
   ]
  },
  {
   "cell_type": "code",
   "execution_count": null,
   "id": "eecf2f96",
   "metadata": {},
   "outputs": [],
   "source": [
    "Leverage_.plot.hist()"
   ]
  },
  {
   "cell_type": "markdown",
   "id": "c83f5886",
   "metadata": {},
   "source": [
    "### Profitability"
   ]
  },
  {
   "cell_type": "code",
   "execution_count": 145,
   "id": "ec21f8c7",
   "metadata": {},
   "outputs": [],
   "source": [
    "ROE_=pd.read_excel(r\"C:\\Users\\demet\\Desktop\\Python\\adat\\faktorok 8-10.xlsx\", sheet_name=\"ROE\", index_col=0 )\n",
    "ROCE_=pd.read_excel(r\"C:\\Users\\demet\\Desktop\\Python\\adat\\faktorok 8-10.xlsx\", sheet_name=\"ROCE\", index_col=0 )\n",
    "ROA_=pd.read_excel(r\"C:\\Users\\demet\\Desktop\\Python\\adat\\faktorok 8-10.xlsx\", sheet_name=\"ROA\", index_col=0 )\n",
    "Ebitda_margin_=pd.read_excel(r\"C:\\Users\\demet\\Desktop\\Python\\adat\\faktorok 8-10.xlsx\", sheet_name=\"EBITDA_MARGIN\", index_col=0)"
   ]
  },
  {
   "cell_type": "code",
   "execution_count": 146,
   "id": "188f4084",
   "metadata": {},
   "outputs": [],
   "source": [
    "ROE_ism=ROE_.replace(0, method='ffill')\n",
    "ROCE_ism=ROCE_.replace(0, method='ffill')\n",
    "ROA_ism=ROA_.replace(0, method='ffill')\n",
    "Ebitda_margin_ism=Ebitda_margin_.replace(0, method='ffill')\n",
    "ROE=ROE_ism.iloc[1762:2013]\n",
    "ROCE=ROCE_ism.iloc[1762:2013]\n",
    "ROA=ROA_ism.iloc[1762:2013]\n",
    "Ebitda_margin=Ebitda_margin_ism.iloc[1762:2013]"
   ]
  },
  {
   "cell_type": "code",
   "execution_count": 147,
   "id": "5f091c3d",
   "metadata": {},
   "outputs": [],
   "source": [
    "Profitability=0.26*(ROE/100)+0.28*(ROCE/100)+0.28*(ROA/100)+0.18*(Ebitda_margin/100)"
   ]
  },
  {
   "cell_type": "code",
   "execution_count": 148,
   "id": "8f14de2e",
   "metadata": {},
   "outputs": [],
   "source": [
    "normalprof=pd.DataFrame(index= Profitability.index, columns=Profitability.columns)\n",
    "for index, row in Profitability.iterrows():\n",
    "    row_mean = np.mean(row)\n",
    "    row_std = np.std(row)\n",
    "    normalized_row = (row - row_mean) / row_std\n",
    "    normalprof.loc[index] = normalized_row"
   ]
  },
  {
   "cell_type": "code",
   "execution_count": 149,
   "id": "0f08436a",
   "metadata": {},
   "outputs": [],
   "source": [
    "Profitability=normalprof\n",
    "Profitability=Profitability.astype(float)"
   ]
  },
  {
   "cell_type": "code",
   "execution_count": 150,
   "id": "807a3bf1",
   "metadata": {},
   "outputs": [
    {
     "name": "stdout",
     "output_type": "stream",
     "text": [
      "503\n"
     ]
    }
   ],
   "source": [
    "x=0\n",
    "for column in Profitability.columns:\n",
    "    has_nan = Profitability[column].isnull().any()\n",
    "    if has_nan== False:\n",
    "        x=x+1\n",
    "print(x)"
   ]
  },
  {
   "cell_type": "code",
   "execution_count": 151,
   "id": "61330969",
   "metadata": {},
   "outputs": [
    {
     "name": "stdout",
     "output_type": "stream",
     "text": [
      "503\n"
     ]
    }
   ],
   "source": [
    "szumma=0\n",
    "for column in Profitability.columns:\n",
    "    has_inf = np.isinf(Profitability[column]).any()\n",
    "    if has_inf==False:\n",
    "        szumma=szumma+1\n",
    "print(szumma)"
   ]
  },
  {
   "cell_type": "code",
   "execution_count": null,
   "id": "5930da9a",
   "metadata": {},
   "outputs": [],
   "source": [
    "Profitability_=Profitability.iloc[-1]"
   ]
  },
  {
   "cell_type": "code",
   "execution_count": null,
   "id": "a181a46a",
   "metadata": {},
   "outputs": [],
   "source": [
    "Profitability_.plot.hist()"
   ]
  },
  {
   "cell_type": "markdown",
   "id": "7110900c",
   "metadata": {},
   "source": [
    "### Earnings Variability"
   ]
  },
  {
   "cell_type": "code",
   "execution_count": 152,
   "id": "a89f2f7c",
   "metadata": {},
   "outputs": [],
   "source": [
    "start_index = Earnings_ism.index.get_loc('2023-01-03')\n",
    "result_dfear = pd.DataFrame(index=Earnings_ism.index[start_index:], columns=Earnings_ism.columns)\n",
    "\n",
    "for column in Earnings_ism.columns:\n",
    "    std_devs = []\n",
    "    for i in range(start_index, len(Earnings_ism)):\n",
    "        window = Earnings_ism.loc[Earnings_ism.index[i-1260]:Earnings_ism.index[i], column]  \n",
    "        std_dev = window.std()             \n",
    "        std_devs.append(std_dev)\n",
    "\n",
    "    result_dfear[column] = std_devs  "
   ]
  },
  {
   "cell_type": "code",
   "execution_count": 153,
   "id": "1ff8cb9c",
   "metadata": {},
   "outputs": [],
   "source": [
    "start_index = cash_ism.index.get_loc('2023-01-03')\n",
    "result_dfcash = pd.DataFrame(index=cash_ism.index[start_index:], columns=cash_ism.columns)\n",
    "\n",
    "for column in cash_ism.columns:\n",
    "    std_devs = []\n",
    "    for i in range(start_index, len(cash_ism)):\n",
    "        window = cash_ism.loc[cash_ism.index[i-1260]:cash_ism.index[i], column] \n",
    "        std_dev = window.std()             \n",
    "        std_devs.append(std_dev)\n",
    "\n",
    "    result_dfcash[column] = std_devs "
   ]
  },
  {
   "cell_type": "code",
   "execution_count": 154,
   "id": "87f239c6",
   "metadata": {},
   "outputs": [],
   "source": [
    "start_index = SALES_ism.index.get_loc('2023-01-03')\n",
    "result_dfsales = pd.DataFrame(index=SALES_ism.index[start_index:], columns=SALES_ism.columns)\n",
    "\n",
    "for column in SALES_ism.columns:\n",
    "    std_devs = []\n",
    "    for i in range(start_index, len(SALES_ism)):\n",
    "        window = SALES_ism.loc[SALES_ism.index[i-1260]:SALES_ism.index[i], column]  \n",
    "        std_dev = window.std()            \n",
    "        std_devs.append(std_dev)\n",
    "\n",
    "    result_dfsales[column] = std_devs "
   ]
  },
  {
   "cell_type": "code",
   "execution_count": 155,
   "id": "767dd80f",
   "metadata": {},
   "outputs": [],
   "source": [
    "start_index = total_asset_ism.index.get_loc('2023-01-03')\n",
    "median_tot_ass = pd.DataFrame(index=total_asset_ism.index[start_index:], columns=total_asset_ism.columns)\n",
    "\n",
    "for column in total_asset_ism.columns:\n",
    "    medians = []\n",
    "    for i in range(start_index, len(total_asset_ism)):\n",
    "        window = total_asset_ism.loc[total_asset_ism.index[i-1260]:total_asset_ism.index[i], column]\n",
    "        median = window.median()            \n",
    "        medians.append(median)\n",
    "\n",
    "    median_tot_ass[column] = medians"
   ]
  },
  {
   "cell_type": "code",
   "execution_count": 156,
   "id": "6a25739a",
   "metadata": {},
   "outputs": [],
   "source": [
    "EarnVol=result_dfear/median_tot_ass\n",
    "CFVol=result_dfcash/median_tot_ass\n",
    "SalesVol=result_dfsales/median_tot_ass"
   ]
  },
  {
   "cell_type": "code",
   "execution_count": 157,
   "id": "e831bc13",
   "metadata": {},
   "outputs": [],
   "source": [
    "EarVariability=0.34*EarnVol+0.35*CFVol+0.31*SalesVol\n",
    "EarVariability=EarVariability.fillna(0)\n",
    "EarVariability.replace([np.inf, -np.inf], 0, inplace=True)"
   ]
  },
  {
   "cell_type": "code",
   "execution_count": 158,
   "id": "bb981809",
   "metadata": {},
   "outputs": [],
   "source": [
    "normalear=pd.DataFrame(index= EarVariability.index, columns=EarVariability.columns)\n",
    "for index, row in EarVariability.iterrows():\n",
    "    row_mean = np.mean(row)\n",
    "    row_std = np.std(row)\n",
    "    normalized_row = (row - row_mean) / row_std\n",
    "    normalear.loc[index] = normalized_row"
   ]
  },
  {
   "cell_type": "code",
   "execution_count": 159,
   "id": "6b51aa87",
   "metadata": {},
   "outputs": [],
   "source": [
    "EarVariability=normalear\n",
    "EarVariability=EarVariability.astype(float)"
   ]
  },
  {
   "cell_type": "code",
   "execution_count": 160,
   "id": "1d1856b9",
   "metadata": {},
   "outputs": [
    {
     "name": "stdout",
     "output_type": "stream",
     "text": [
      "503\n"
     ]
    }
   ],
   "source": [
    "#NaN ellenorzese\n",
    "x=0\n",
    "for column in EarVariability.columns:\n",
    "    has_nan = EarVariability[column].isnull().any()\n",
    "    if has_nan== False:\n",
    "        x=x+1\n",
    "print(x)"
   ]
  },
  {
   "cell_type": "code",
   "execution_count": 161,
   "id": "b7f14cd9",
   "metadata": {},
   "outputs": [
    {
     "name": "stdout",
     "output_type": "stream",
     "text": [
      "503\n"
     ]
    }
   ],
   "source": [
    "#inf ellenorzese\n",
    "szumma=0\n",
    "for column in EarVariability.columns:\n",
    "    has_inf = np.isinf(EarVariability[column]).any()\n",
    "    if has_inf==False:\n",
    "        szumma=szumma+1\n",
    "print(szumma)"
   ]
  },
  {
   "cell_type": "code",
   "execution_count": null,
   "id": "ff37f5fb",
   "metadata": {},
   "outputs": [],
   "source": [
    "EarVariability_=EarVariability.iloc[-1]"
   ]
  },
  {
   "cell_type": "code",
   "execution_count": null,
   "id": "e78807d0",
   "metadata": {},
   "outputs": [],
   "source": [
    "EarVariability_.plot.hist()"
   ]
  },
  {
   "cell_type": "markdown",
   "id": "d0b00a98",
   "metadata": {},
   "source": [
    "### Volatility"
   ]
  },
  {
   "cell_type": "markdown",
   "id": "af0d08dc",
   "metadata": {},
   "source": [
    "###  $$ \\text{CAPM: } E(r_i) = r_f + \\beta_i (E(r_M) - r_f)$$"
   ]
  },
  {
   "cell_type": "code",
   "execution_count": 162,
   "id": "e7acc5a9",
   "metadata": {},
   "outputs": [],
   "source": [
    "px_last_2016=px_last\n",
    "div_2016=dividend\n",
    "sp500=pd.read_excel(r\"C:\\Users\\demet\\Desktop\\Python\\adat\\faktorok 8-10.xlsx\", sheet_name=\"sp500 index\", index_col=0)\n",
    "rf_2016=rfree"
   ]
  },
  {
   "cell_type": "code",
   "execution_count": 163,
   "id": "40c5de30",
   "metadata": {},
   "outputs": [],
   "source": [
    "r_excess=hozam"
   ]
  },
  {
   "cell_type": "code",
   "execution_count": 164,
   "id": "986a503a",
   "metadata": {},
   "outputs": [],
   "source": [
    "rf2=rf.iloc[1:]"
   ]
  },
  {
   "cell_type": "code",
   "execution_count": 165,
   "id": "51938024",
   "metadata": {},
   "outputs": [],
   "source": [
    "#rM-rf\n",
    "osztas=(sp500/sp500.shift(1))-1\n",
    "rm = osztas\n",
    "#.applymap(lambda x: np.log(x) if not pd.isna(x) and x > 0 else np.nan)\n",
    "rM=rm.drop(rm.index[0])\n",
    "market=rM-rf2"
   ]
  },
  {
   "cell_type": "code",
   "execution_count": 166,
   "id": "da46552c",
   "metadata": {},
   "outputs": [],
   "source": [
    "#CAPM beta es rezidualisok volatilitasanak kiszamolasa\n",
    "start_index = r_excess.index.get_loc('2023-01-03')\n",
    "end_index = len(rM)\n",
    "\n",
    "beta = pd.DataFrame(index=r_excess.index[start_index:], columns=r_excess.columns)\n",
    "resid_vol = pd.DataFrame(index=r_excess.index[start_index:], columns=r_excess.columns)\n",
    "\n",
    "for date in r_excess.index[start_index:]:\n",
    "    for stock in r_excess.columns:\n",
    "        \n",
    "        start_date_index = r_excess.index.get_loc(date) - 1260\n",
    "        end_date_index = r_excess.index.get_loc(date)  \n",
    "        \n",
    "        X = sm.add_constant(market[stock].loc[market.index[start_date_index:end_date_index]])\n",
    "        \n",
    "        y = r_excess[stock].loc[r_excess.index[start_date_index:end_date_index]]\n",
    "        model = sm.OLS(y, X)\n",
    "        results = model.fit()\n",
    "        beta.at[date, stock] = results.params[1]\n",
    "        resid_vol.at[date, stock] = np.std(results.resid)"
   ]
  },
  {
   "cell_type": "code",
   "execution_count": null,
   "id": "fff65203",
   "metadata": {},
   "outputs": [],
   "source": [
    "beta"
   ]
  },
  {
   "cell_type": "code",
   "execution_count": null,
   "id": "fdfb2a47",
   "metadata": {},
   "outputs": [],
   "source": [
    "resid_vol"
   ]
  },
  {
   "cell_type": "code",
   "execution_count": 167,
   "id": "44080635",
   "metadata": {},
   "outputs": [],
   "source": [
    "res_vol=resid_vol\n",
    "beta_=beta"
   ]
  },
  {
   "cell_type": "code",
   "execution_count": 168,
   "id": "a6a1aad4",
   "metadata": {},
   "outputs": [],
   "source": [
    "start_index = r_excess.index.get_loc('2023-01-03')\n",
    "return_vol = pd.DataFrame(index=r_excess.index[start_index:], columns=r_excess.columns)\n",
    "\n",
    "for column in r_excess.columns:\n",
    "    std_devs = []\n",
    "    for i in range(start_index, len(r_excess)):\n",
    "        window = r_excess.loc[r_excess.index[i-252]:r_excess.index[i], column] \n",
    "        std_dev = window.std()           \n",
    "        std_devs.append(std_dev)\n",
    "\n",
    "    return_vol[column] = std_devs "
   ]
  },
  {
   "cell_type": "code",
   "execution_count": 169,
   "id": "a37659b9",
   "metadata": {},
   "outputs": [],
   "source": [
    "px_last_2016.replace(0, np.nan, inplace=True)\n",
    "start_index = px_last_2016.index.get_loc('2023-01-03')\n",
    "crng = pd.DataFrame(index=px_last_2016.index[start_index:], columns=px_last_2016.columns)\n",
    "\n",
    "for column in px_last_2016.columns:\n",
    "    ratio = []\n",
    "    for i in range(start_index, len(px_last_2016)):\n",
    "        window = px_last_2016.loc[px_last_2016.index[i-252]:px_last_2016.index[i], column] \n",
    "        min_val = window.min()\n",
    "        max_val = window.max()\n",
    "        rat = max_val / min_val\n",
    "        ratio.append(rat)\n",
    "\n",
    "    crng[column] = ratio"
   ]
  },
  {
   "cell_type": "code",
   "execution_count": 170,
   "id": "1b709542",
   "metadata": {},
   "outputs": [],
   "source": [
    "crng=crng.fillna(0)"
   ]
  },
  {
   "cell_type": "code",
   "execution_count": 171,
   "id": "14406897",
   "metadata": {},
   "outputs": [],
   "source": [
    "Volatility=0.3*return_vol+0.14*beta_+0.29*res_vol+0.26*crng"
   ]
  },
  {
   "cell_type": "code",
   "execution_count": 172,
   "id": "99886fe7",
   "metadata": {},
   "outputs": [],
   "source": [
    "normalvol1=pd.DataFrame(index= Volatility.index, columns=Value.columns)\n",
    "for index, row in Volatility.iterrows():\n",
    "    row_mean = np.mean(row)\n",
    "    row_std = np.std(row)\n",
    "    normalized_row = (row - row_mean) / np.sqrt(row_std)\n",
    "    normalvol1.loc[index] = normalized_row"
   ]
  },
  {
   "cell_type": "code",
   "execution_count": 173,
   "id": "4cd8a6c7",
   "metadata": {},
   "outputs": [],
   "source": [
    "Volatility=normalvol1\n",
    "Volatility=Volatility.astype(float)"
   ]
  },
  {
   "cell_type": "code",
   "execution_count": 174,
   "id": "f15adf8d",
   "metadata": {},
   "outputs": [
    {
     "name": "stdout",
     "output_type": "stream",
     "text": [
      "503\n"
     ]
    }
   ],
   "source": [
    "#NaN ellenorzes\n",
    "x=0\n",
    "for column in Volatility.columns:\n",
    "    has_nan = Volatility[column].isnull().any()\n",
    "    if has_nan== False:\n",
    "        x=x+1\n",
    "print(x)"
   ]
  },
  {
   "cell_type": "code",
   "execution_count": 175,
   "id": "cd64f5ae",
   "metadata": {},
   "outputs": [
    {
     "name": "stdout",
     "output_type": "stream",
     "text": [
      "503\n"
     ]
    }
   ],
   "source": [
    "#inf ellenorzese\n",
    "szumma=0\n",
    "for column in Volatility.columns:\n",
    "    has_inf = np.isinf(Volatility[column]).any()\n",
    "    if has_inf==False:\n",
    "        szumma=szumma+1\n",
    "print(szumma)"
   ]
  },
  {
   "cell_type": "markdown",
   "id": "2b0e8c18",
   "metadata": {},
   "source": [
    "## Volatilitás regressziója"
   ]
  },
  {
   "cell_type": "code",
   "execution_count": 177,
   "id": "07946f3b",
   "metadata": {},
   "outputs": [],
   "source": [
    "#ez kb 12-15 percig fut\n",
    "start_index = Volatility.index.get_loc('2023-01-03')\n",
    "end_index = len(Volatility)\n",
    "error = pd.DataFrame(index=Volatility.index[start_index:], columns=Volatility.columns)\n",
    "\n",
    "for date in Volatility.index[start_index:]:\n",
    "    for stock in Volatility.columns:\n",
    "        start_date_index = Volatility.index.get_loc(date)\n",
    "        end_date_index = Volatility.index.get_loc(date)+1\n",
    "        \n",
    "        X = sm.add_constant(pd.concat([momentum[stock].loc[momentum.index[start_date_index:end_date_index]],\n",
    "                                       DivYield[stock].loc[DivYield.index[start_date_index:end_date_index]],\n",
    "                                       Value[stock].loc[Value.index[start_date_index:end_date_index]],\n",
    "                                       Size[stock].loc[Size.index[start_date_index:end_date_index]],\n",
    "                                       trad_act[stock].loc[trad_act.index[start_date_index:end_date_index]],\n",
    "                                       Growth[stock].loc[Growth.index[start_date_index:end_date_index]],\n",
    "                                       Leverage[stock].loc[Leverage.index[start_date_index:end_date_index]],\n",
    "                                       Profitability[stock].loc[Profitability.index[start_date_index:end_date_index]],\n",
    "                                       EarVariability[stock].loc[EarVariability.index[start_date_index:end_date_index]]], axis=1))\n",
    "        \n",
    "        y = Volatility[stock].loc[Volatility.index[start_date_index:end_date_index]]\n",
    "        model = sm.OLS(y, X)\n",
    "        results = model.fit()\n",
    "        error.at[date, stock] = results.resid.values"
   ]
  },
  {
   "cell_type": "code",
   "execution_count": 178,
   "id": "9bad386e",
   "metadata": {},
   "outputs": [],
   "source": [
    "normalvol=pd.DataFrame(index= error.index, columns=error.columns)\n",
    "for index, row in error.iterrows():\n",
    "    row_mean_ = np.mean(row)\n",
    "    row_std_ = np.std(row) \n",
    "    normalized_row_ = (row - row_mean_) / row_std_\n",
    "    normalvol.loc[index] = normalized_row_"
   ]
  },
  {
   "cell_type": "code",
   "execution_count": 179,
   "id": "ddb0a359",
   "metadata": {},
   "outputs": [],
   "source": [
    "error=normalvol"
   ]
  },
  {
   "cell_type": "code",
   "execution_count": 180,
   "id": "9a9f0347",
   "metadata": {},
   "outputs": [],
   "source": [
    "error=error.astype(float)"
   ]
  },
  {
   "cell_type": "code",
   "execution_count": null,
   "id": "409049e9",
   "metadata": {},
   "outputs": [],
   "source": [
    "error_=error.iloc[-1]"
   ]
  },
  {
   "cell_type": "code",
   "execution_count": null,
   "id": "2c6b629e",
   "metadata": {},
   "outputs": [],
   "source": [
    "error_.plot.hist()"
   ]
  },
  {
   "cell_type": "markdown",
   "id": "18785ca5",
   "metadata": {},
   "source": [
    "# Keresztmetszeti regresszió"
   ]
  },
  {
   "cell_type": "code",
   "execution_count": 186,
   "id": "6eb7fefb",
   "metadata": {},
   "outputs": [],
   "source": [
    "datafr=matrix.copy()"
   ]
  },
  {
   "cell_type": "code",
   "execution_count": 187,
   "id": "663c4388",
   "metadata": {
    "scrolled": false
   },
   "outputs": [],
   "source": [
    "ossz= pd.DataFrame(index=Market_cap.index, columns=['Osszeg'])\n",
    "osszeg = Market_cap.sum(axis=1)\n",
    "ossz['Osszeg'] = osszeg"
   ]
  },
  {
   "cell_type": "code",
   "execution_count": null,
   "id": "41c2141e",
   "metadata": {},
   "outputs": [],
   "source": [
    "uj_oszlop_nevek = [f\"oszlop_{i}\" for i in range(1, 503)]\n",
    "for oszlop_nev in uj_oszlop_nevek:\n",
    "    ossz[oszlop_nev] = ossz['Osszeg']\n",
    "\n",
    "ossz.columns=Market_cap.columns"
   ]
  },
  {
   "cell_type": "code",
   "execution_count": 189,
   "id": "9962a46c",
   "metadata": {},
   "outputs": [],
   "source": [
    "suly=Market_cap/ossz\n",
    "gyok=np.sqrt(suly)\n",
    "gyok=gyok.T"
   ]
  },
  {
   "cell_type": "code",
   "execution_count": 190,
   "id": "377f2e69",
   "metadata": {},
   "outputs": [],
   "source": [
    "Mom=momentum.T\n",
    "Div=DivYield.T\n",
    "Val=Value.T\n",
    "Siz=Size.T\n",
    "TrA=trad_act.T\n",
    "Gro=Growth.T\n",
    "Lev=Leverage.T\n",
    "Pro=Profitability.T\n",
    "EaV=EarVariability.T\n",
    "Vol=error.T\n",
    "ri=effr_i.T"
   ]
  },
  {
   "cell_type": "code",
   "execution_count": null,
   "id": "26d4da9e",
   "metadata": {
    "scrolled": true
   },
   "outputs": [],
   "source": [
    "coeff = pd.DataFrame(index=['Konstans', 'Momentum', 'Osztalékhozam', 'Érték', 'Méret', 'Kereskedési aktivitás', 'Növekedés', 'Tőkeáttétel', 'Jövedelmezőség', \n",
    "                              'Eredmény változékonysága', 'Volatilitás','Energia','Nyersanyagok', 'Ipari termékek', \n",
    "                              'Nem alapvető fogyasztási termékek', 'Alapvető fogyasztási termékek', 'Egészségügy', 'Pénzügy', 'IT',\n",
    "                              'Kommunikációs szolgáltatások', 'Közüzemek', 'Ingatlan'], columns=ri.columns)\n",
    "p = pd.DataFrame(index=['Konstans', 'Momentum', 'Osztalékhozam', 'Érték', 'Méret', 'Kereskedési aktivitás', 'Növekedés', 'Tőkeáttétel', 'Jövedelmezőség', \n",
    "                              'Eredmény változékonysága', 'Volatilitás','Energia','Nyersanyagok', 'Ipari termékek', \n",
    "                              'Nem alapvető fogyasztási termékek', 'Alapvető fogyasztási termékek', 'Egészségügy', 'Pénzügy', 'IT',\n",
    "                              'Kommunikációs szolgáltatások', 'Közüzemek', 'Ingatlan'], columns=ri.columns)\n",
    "R = pd.DataFrame(index=['R^2'], columns=ri.columns)\n",
    "R_adj = pd.DataFrame(index=['Adj R^2'], columns=ri.columns)\n",
    "F = pd.DataFrame(index=['F'], columns=ri.columns)\n",
    "\n",
    "for stock in ri.columns:\n",
    "        \n",
    "    X = sm.add_constant(pd.concat([Mom[stock], Div[stock], Val[stock], Siz[stock], TrA[stock], Gro[stock], Lev[stock],\n",
    "                                    Pro[stock], EaV[stock], Vol[stock], datafr], axis=1)) \n",
    "    y = ri[stock]\n",
    "    model = sm.OLS(y, X)\n",
    "    results = model.fit()\n",
    "    coeff[stock] = results.params.values.round(3)\n",
    "    p[stock]=results.pvalues.values.round(3)\n",
    "    R[stock]=results.rsquared.round(3)\n",
    "    \n",
    "    n = len(y)\n",
    "    k = len(X.columns)-1      #-1 a const miatt\n",
    "    adjusted_r_squared = 1 - ((1 - results.rsquared) * (n - 1) / (n - k - 1))\n",
    "    R_adj[stock] = adjusted_r_squared.round(3)\n",
    "    \n",
    "    F[stock]=results.fvalue.round(2)"
   ]
  },
  {
   "cell_type": "code",
   "execution_count": 226,
   "id": "ce1d2ab9",
   "metadata": {},
   "outputs": [],
   "source": [
    "#WLS\n",
    "coeff = pd.DataFrame(index=['Piac', 'Momentum', 'Osztalékhozam', 'Érték', 'Méret', 'Kereskedési aktivitás', 'Növekedés', 'Tőkeáttétel', 'Jövedelmezőség', \n",
    "                              'Eredmény változékonysága', 'Volatilitás','Energia','Nyersanyagok', 'Ipari termékek', \n",
    "                              'Nem alapvető fogyasztási termékek', 'Alapvető fogyasztási termékek', 'Egészségügy', 'Pénzügy', 'IT',\n",
    "                              'Kommunikációs szolgáltatások', 'Közüzemek', 'Ingatlan'], columns=ri.columns)\n",
    "p = pd.DataFrame(index=['Piac', 'Momentum', 'Osztalékhozam', 'Érték', 'Méret', 'Kereskedési aktivitás', 'Növekedés', 'Tőkeáttétel', 'Jövedelmezőség', \n",
    "                              'Eredmény változékonysága', 'Volatilitás','Energia','Nyersanyagok', 'Ipari termékek', \n",
    "                              'Nem alapvető fogyasztási termékek', 'Alapvető fogyasztási termékek', 'Egészségügy', 'Pénzügy', 'IT',\n",
    "                              'Kommunikációs szolgáltatások', 'Közüzemek', 'Ingatlan'], columns=ri.columns)\n",
    "R = pd.DataFrame(index=['R^2'], columns=ri.columns)\n",
    "R_adj = pd.DataFrame(index=['Adj R^2'], columns=ri.columns)\n",
    "F = pd.DataFrame(index=['F'], columns=ri.columns)\n",
    "\n",
    "for stock in ri.columns:\n",
    "        \n",
    "    X = sm.add_constant(pd.concat([Mom[stock], Div[stock], Val[stock], Siz[stock], TrA[stock], Gro[stock], Lev[stock],\n",
    "                                    Pro[stock], EaV[stock], Vol[stock], datafr], axis=1)) \n",
    "    y = ri[stock]\n",
    "    \n",
    "    weights = gyok[stock]\n",
    "    model = sm.WLS(y, X, weights)\n",
    "    results = model.fit()\n",
    "    coeff[stock] = results.params.values.round(3)\n",
    "    p[stock]=results.pvalues.values.round(3)\n",
    "    R[stock]=results.rsquared.round(3)\n",
    "    \n",
    "    n = len(y)\n",
    "    k = len(X.columns)-1      #-1 a const miatt\n",
    "    adjusted_r_squared = 1 - ((1 - results.rsquared) * (n - 1) / (n - k - 1))\n",
    "    R_adj[stock] = adjusted_r_squared.round(3)\n",
    "    \n",
    "    F[stock]=results.fvalue.round(2)"
   ]
  },
  {
   "cell_type": "code",
   "execution_count": 227,
   "id": "caa1a107",
   "metadata": {},
   "outputs": [],
   "source": [
    "new_df = pd.DataFrame(index=coeff.index, columns=coeff.columns)\n",
    "for index, row in coeff.iterrows():\n",
    "    cumulative_sum = 0\n",
    "    for col in coeff.columns:\n",
    "        cumulative_sum += row[col]\n",
    "        new_df.loc[index, col] = cumulative_sum"
   ]
  },
  {
   "cell_type": "code",
   "execution_count": 228,
   "id": "36e3e4c5",
   "metadata": {},
   "outputs": [
    {
     "data": {
      "image/png": "[encoded data removed]",
      "text/plain": [
       "<Figure size 800x420 with 1 Axes>"
      ]
     },
     "metadata": {},
     "output_type": "display_data"
    }
   ],
   "source": [
    "plt.figure(figsize=(8, 4.2))\n",
    "colors = ['dodgerblue', 'lime',  'red', 'gold',  'chocolate', 'magenta', 'turquoise', 'brown', 'pink',  'cyan', 'red',\n",
    "          'olive', 'teal', 'magenta', 'orange', 'silver', 'navy', 'salmon', 'indigo', 'tan', 'darkgreen']\n",
    "colors2 = [ 'magenta', 'orange', 'peru', 'navy', 'salmon', 'indigo', 'tan', 'darkgreen','dodgerblue', 'lime',  'red', 'gold',  'chocolate', 'magenta', 'turquoise', 'brown', 'pink',  'cyan', 'red',\n",
    "          'olive', 'teal']\n",
    "\n",
    "for index, (name, row) in enumerate(new_df.iloc[0:3].iterrows()):\n",
    "    plt.plot(row.index, row.values, color=colors[index], label=f'{name}')\n",
    "for index, (name, row) in enumerate(new_df.iloc[5:7].iterrows()):\n",
    "    plt.plot(row.index, row.values, color=colors2[index], label=f'{name}')\n",
    "    \n",
    "plt.title('Kumulált Stílus faktorhozamok')\n",
    "plt.legend(loc='upper center', bbox_to_anchor=(0.5, 1.00), fancybox=True, fontsize='x-small', ncol=3)\n",
    "#plt.ylim(-0.8, 0.8)\n",
    "plt.xticks(rotation=45) \n",
    "plt.gca().yaxis.set_major_formatter(ticker.FuncFormatter(lambda y, _: '{:.0%}'.format(y)))\n",
    "plt.show()"
   ]
  },
  {
   "cell_type": "code",
   "execution_count": 229,
   "id": "815dc050",
   "metadata": {},
   "outputs": [
    {
     "data": {
      "image/png": "[encoded data removed]",
      "text/plain": [
       "<Figure size 700x400 with 1 Axes>"
      ]
     },
     "metadata": {},
     "output_type": "display_data"
    }
   ],
   "source": [
    "plt.figure(figsize=(7, 4))\n",
    "colors = [ 'pink','yellow', 'blue', 'deeppink', 'tan', 'red', 'darkviolet', 'darkgreen', 'olive', 'goldenrod', 'magenta', \n",
    "           'orange', 'silver','purple',  'brown', 'pink',  'lightseagreen', 'red', 'lime',  'salmon', 'black', 'gold', 'turquoise', ]\n",
    "colors2 = [ 'deepskyblue', 'lime', 'salmon', 'black', 'gold', 'turquoise', 'red', 'orange', 'peru', 'navy', 'salmon', 'indigo', 'tan', 'darkgreen','dodgerblue', 'lime',  'red', 'gold',  'chocolate', 'magenta', 'turquoise', 'brown', 'pink',  'cyan', 'red',\n",
    "          'olive', 'teal']\n",
    "colors3= ['darkviolet','deeppink', 'peru',  'tan',  'teal', 'darkgreen', 'lime',  'salmon', 'black', 'gold', 'turquoise','purple',  'brown', 'pink',  'lightseagreen', 'red',\n",
    "           'olive', 'goldenrod', 'magenta', 'orange', 'silver',  ]\n",
    "\n",
    "for index, (name, row) in enumerate(new_df.iloc[0:1].iterrows()):\n",
    "    plt.plot(row.index, row.values, color=colors2[index], label=f'{name}')\n",
    "for index, (name, row) in enumerate(new_df.iloc[16:21].iterrows()):\n",
    "    plt.plot(row.index, row.values, color=colors[index], label=f'{name}')\n",
    "#for index, (name, row) in enumerate(new_df.iloc[21:22].iterrows()):\n",
    "  #  plt.plot(row.index, row.values, color=colors3[index], label=f'{name}')\n",
    "#plt.title('Kumulált Iparág faktorhozamok')\n",
    "plt.legend(loc='center left', bbox_to_anchor=(0.08, -0.30),fancybox=True, fontsize='small', ncol=3)\n",
    "#plt.legend(loc='center left', bbox_to_anchor=(0.0, 0.82), fancybox=True, shadow=True, fontsize='small', ncol=1, prop={'size': 'small'})\n",
    "#plt.ylim(-0.18, 0.18)\n",
    "plt.xticks(rotation=45) \n",
    "plt.gca().yaxis.set_major_formatter(ticker.FuncFormatter(lambda y, _: '{:.0%}'.format(y)))\n",
    "plt.show()"
   ]
  },
  {
   "cell_type": "code",
   "execution_count": 230,
   "id": "a8b2ed5b",
   "metadata": {},
   "outputs": [],
   "source": [
    "faktorvol = pd.DataFrame(index=coeff.index, columns=['Évesített Volatilitás'])\n",
    "\n",
    "for index, row in coeff.iterrows():\n",
    "    szoras = np.std(row)*np.sqrt(252)\n",
    "    #szoras=szoras*100\n",
    "    szoras_ = \"{:.3f}\".format(szoras)\n",
    "    faktorvol.at[index, 'Évesített Volatilitás'] = szoras_"
   ]
  },
  {
   "cell_type": "code",
   "execution_count": 231,
   "id": "439e840e",
   "metadata": {},
   "outputs": [],
   "source": [
    "faktorvol=faktorvol.astype(float)"
   ]
  },
  {
   "cell_type": "code",
   "execution_count": 232,
   "id": "673169fd",
   "metadata": {},
   "outputs": [],
   "source": [
    "annualized_return= pd.DataFrame(index=coeff.index, columns=['Évesített Volatilitás'])\n",
    "\n",
    "for index, row in coeff.iterrows():\n",
    "    difference = (1+row).prod()**(252/252)-1\n",
    "    annualized_return.at[index, 'Évesített Volatilitás'] = difference"
   ]
  },
  {
   "cell_type": "code",
   "execution_count": 233,
   "id": "91ac6c22",
   "metadata": {},
   "outputs": [],
   "source": [
    "annualized_return=annualized_return.astype(float)"
   ]
  },
  {
   "cell_type": "code",
   "execution_count": 236,
   "id": "f66b3b67",
   "metadata": {},
   "outputs": [],
   "source": [
    "sharpeszamlalo=annualized_return\n",
    "sharpe=(sharpeszamlalo/faktorvol).round(3)\n",
    "sharpe.columns=['Sharpe-ráta']"
   ]
  },
  {
   "cell_type": "code",
   "execution_count": 237,
   "id": "0562e98c",
   "metadata": {},
   "outputs": [],
   "source": [
    "#az időtartam hány százalékában szignifikáns (5%-os szignifikancia szinten)\n",
    "szazalek = pd.DataFrame(index=p.index[0:], columns=['%'])\n",
    "\n",
    "for index, row in p.iterrows():\n",
    "    a = 0\n",
    "    for column, value in row.items():\n",
    "        if value < 0.05:\n",
    "            a += 1\n",
    "            b=(a/251)*100\n",
    "    szazalek.at[index, '%'] = b\n",
    "\n",
    "szazalek=szazalek.astype(float)\n",
    "szazalek=szazalek.round(2)\n",
    "szazalek.index.name='Faktorok'"
   ]
  },
  {
   "cell_type": "code",
   "execution_count": 238,
   "id": "c6d7db1b",
   "metadata": {},
   "outputs": [
    {
     "data": {
      "image/png": "[encoded data removed]",
      "text/plain": [
       "<Figure size 1100x480 with 1 Axes>"
      ]
     },
     "metadata": {},
     "output_type": "display_data"
    }
   ],
   "source": [
    "plt.figure(figsize=(11, 4.8))\n",
    "x = range(len(szazalek.index))\n",
    "plt.bar(x, szazalek['%'], color='bisque', edgecolor='Black', align='center')\n",
    "#plt.title('Szignifikancia(%)')\n",
    "plt.ylabel('%')\n",
    "plt.xticks(x, szazalek.index, rotation=45, ha='right')\n",
    "plt.yticks(range(0, 90, 5))\n",
    "#plt.axhline(y=30, color='red', linestyle='--')  \n",
    "plt.show()"
   ]
  },
  {
   "cell_type": "code",
   "execution_count": 240,
   "id": "dd7c1ff7",
   "metadata": {},
   "outputs": [],
   "source": [
    "R_atlag=R_adj.T.mean()"
   ]
  },
  {
   "cell_type": "code",
   "execution_count": 241,
   "id": "3e2b3717",
   "metadata": {},
   "outputs": [],
   "source": [
    "minimum=np.min(R_adj)\n",
    "maximum=np.max(R_adj)"
   ]
  },
  {
   "cell_type": "code",
   "execution_count": 244,
   "id": "c081dbf5",
   "metadata": {},
   "outputs": [
    {
     "data": {
      "image/png": "[encoded data removed]",
      "text/plain": [
       "<Figure size 800x500 with 1 Axes>"
      ]
     },
     "metadata": {},
     "output_type": "display_data"
    }
   ],
   "source": [
    "R_adj_=R_adj.T\n",
    "plt.figure(figsize=(8, 5))\n",
    "plt.title(r'Korrigált $R^2$ időbeli változása')\n",
    "plt.plot(R_adj_, linestyle='-', color='SandyBrown')\n",
    "plt.xticks(rotation=45)     \n",
    "plt.tight_layout()  \n",
    "\n",
    "plt.show()"
   ]
  },
  {
   "cell_type": "code",
   "execution_count": null,
   "id": "c4cce055",
   "metadata": {},
   "outputs": [],
   "source": [
    "ax = R_adj.T.plot.hist(figsize=(8.5, 6), bins=16, alpha=0.8, color='dodgerblue', edgecolor='black' )\n",
    "ax.set_ylabel('Frekvencia')\n",
    "plt.show()"
   ]
  }
 ],
 "metadata": {
  "kernelspec": {
   "display_name": "Python 3 (ipykernel)",
   "language": "python",
   "name": "python3"
  },
  "language_info": {
   "codemirror_mode": {
    "name": "ipython",
    "version": 3
   },
   "file_extension": ".py",
   "mimetype": "text/x-python",
   "name": "python",
   "nbconvert_exporter": "python",
   "pygments_lexer": "ipython3",
   "version": "3.11.5"
  }
 },
 "nbformat": 4,
 "nbformat_minor": 5
}
